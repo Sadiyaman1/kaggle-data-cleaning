{
 "cells": [
  {
   "cell_type": "markdown",
   "id": "12c5fd4b-43f1-464a-8286-ff1ea91b442a",
   "metadata": {},
   "source": [
    "# 🧼 Cleaning Data – Kaggle Course\n",
    "\n",
    "This is my personal notebook for practicing the **Kaggle Data Cleaning Course**.  \n",
    "The goal is to learn practical, job-relevant techniques such as handling missing values, duplicates, incorrect data types, and inconsistent entries.\n",
    "\n",
    "In addition to following the course content, I’ve also made meaningful custom additions and improvements to deepen my understanding and explore real-world challenges more thoroughly.\n",
    "\n",
    "---\n",
    "\n",
    "## Course Link  \n",
    "- [Kaggle: Data Cleaning Course](https://www.kaggle.com/learn/data-cleaning)\n",
    "\n",
    "## 📊 Datasets Used\n",
    "\n",
    "- [Building Permit Applications Data (San Francisco)](https://www.kaggle.com/datasets/aparnashastry/building-permit-applications-data?utm_source=chatgpt.com)  \n",
    "- [Earthquake Database (USGS)](https://www.kaggle.com/datasets/usgs/earthquake-database?utm_source=chatgpt.com)  \n",
    "- [Kickstarter Projects Dataset](https://www.kaggle.com/datasets/kemical/kickstarter-projects)\n",
    "- [Pakistani Intellectual Capital Data](https://www.kaggle.com/datasets/henryjavier/pakistan-intellectual-capitalcsv)"
   ]
  },
  {
   "cell_type": "markdown",
   "id": "ecb5c71f-d447-4456-9a57-640c295b085d",
   "metadata": {},
   "source": [
    "## 1️⃣ Module: Handling Missing Values\n",
    "\n",
    "In this module, I’m learning how to **detect, understand, and handle missing values**, depending on the context.\n",
    "\n",
    "**Learning goals:**\n",
    "- Identify missing values using `isnull()` and `sum()`\n",
    "- Understand why data is missing\n",
    "- Apply appropriate strategies:\n",
    "  - Remove rows or columns with missing data (`dropna()`)\n",
    "  - Fill missing values (`fillna()`) using methods like median, mode, or a specific value\n",
    "\n",
    "I’m working with the `Building_Permits.csv` dataset, as used in the Kaggle course."
   ]
  },
  {
   "cell_type": "markdown",
   "id": "5e62d604-345e-4e13-85e6-5e7e3c29cea8",
   "metadata": {},
   "source": [
    "### Step 1: Load the Data and Take a First Look\n",
    "\n",
    "To start cleaning, we first need to **load the dataset** and get a **basic overview** of its structure.\n",
    "\n",
    "In this step:\n",
    "- We import `pandas` and `numpy`, our main tools for data handling\n",
    "- We read in the full dataset using `pd.read_csv()`\n",
    "- We set a **random seed** with `np.random.seed(0)` to ensure that any randomness in cleaning or sampling is reproducible\n",
    "\n",
    "**Goal:**  \n",
    "Prepare the data for inspection and ensure a consistent environment for further cleaning steps.\n",
    "\n",
    "---\n",
    "In the follow-up exercise, I apply these skills to the [Building Permit Applications Data (San Francisco)](https://www.kaggle.com/datasets/aparnashastry/building-permit-applications-data?utm_source=chatgpt.com)."
   ]
  },
  {
   "cell_type": "code",
   "execution_count": 134,
   "id": "4d3d4f78-7e7c-4013-8e6e-377defd423c5",
   "metadata": {},
   "outputs": [
    {
     "name": "stderr",
     "output_type": "stream",
     "text": [
      "\n",
      "[notice] A new release of pip is available: 23.2.1 -> 25.1.1\n",
      "[notice] To update, run: python.exe -m pip install --upgrade pip\n"
     ]
    },
    {
     "name": "stdout",
     "output_type": "stream",
     "text": [
      "Requirement already satisfied: pandas in c:\\users\\sefer adiyaman\\pycharmprojects\\datacleaning_course_kaggle\\.venv\\lib\\site-packages (2.3.1)\n",
      "Requirement already satisfied: numpy in c:\\users\\sefer adiyaman\\pycharmprojects\\datacleaning_course_kaggle\\.venv\\lib\\site-packages (2.3.2)\n",
      "Requirement already satisfied: python-dateutil>=2.8.2 in c:\\users\\sefer adiyaman\\pycharmprojects\\datacleaning_course_kaggle\\.venv\\lib\\site-packages (from pandas) (2.9.0.post0)\n",
      "Requirement already satisfied: pytz>=2020.1 in c:\\users\\sefer adiyaman\\pycharmprojects\\datacleaning_course_kaggle\\.venv\\lib\\site-packages (from pandas) (2025.2)\n",
      "Requirement already satisfied: tzdata>=2022.7 in c:\\users\\sefer adiyaman\\pycharmprojects\\datacleaning_course_kaggle\\.venv\\lib\\site-packages (from pandas) (2025.2)\n",
      "Requirement already satisfied: six>=1.5 in c:\\users\\sefer adiyaman\\pycharmprojects\\datacleaning_course_kaggle\\.venv\\lib\\site-packages (from python-dateutil>=2.8.2->pandas) (1.17.0)\n"
     ]
    }
   ],
   "source": [
    "# Install necessary packages\n",
    "!pip install pandas numpy\n",
    "\n",
    "# Import libraries\n",
    "import pandas as pd\n",
    "import numpy as np\n",
    "\n",
    "# Load dataset\n",
    "b_permits = pd.read_csv(\"data_cleaning_kaggle/data/Building_Permits.csv\")\n",
    "\n",
    "# Set seed for reproducibility\n",
    "np.random.seed(0)\n"
   ]
  },
  {
   "cell_type": "markdown",
   "id": "981ed889-e891-4cc3-828f-56dd55186f71",
   "metadata": {},
   "source": [
    "### Step 2: Take a First Look at the Data\n",
    "\n",
    "Before handling missing values, I’m previewing the dataset to:\n",
    "- confirm that it was loaded correctly\n",
    "- get a first impression of the structure and content\n",
    "- spot visible `NaN` (missing values) early on\n",
    "\n",
    "I’ll use `.head()` to preview the first 5 rows.\n"
   ]
  },
  {
   "cell_type": "code",
   "execution_count": 135,
   "id": "3a2ffd84-ea51-42a6-9bba-0ced027cc8b3",
   "metadata": {},
   "outputs": [
    {
     "data": {
      "text/html": [
       "<div>\n",
       "<style scoped>\n",
       "    .dataframe tbody tr th:only-of-type {\n",
       "        vertical-align: middle;\n",
       "    }\n",
       "\n",
       "    .dataframe tbody tr th {\n",
       "        vertical-align: top;\n",
       "    }\n",
       "\n",
       "    .dataframe thead th {\n",
       "        text-align: right;\n",
       "    }\n",
       "</style>\n",
       "<table border=\"1\" class=\"dataframe\">\n",
       "  <thead>\n",
       "    <tr style=\"text-align: right;\">\n",
       "      <th></th>\n",
       "      <th>Date</th>\n",
       "      <th>Time</th>\n",
       "      <th>Latitude</th>\n",
       "      <th>Longitude</th>\n",
       "      <th>Type</th>\n",
       "      <th>Depth</th>\n",
       "      <th>Depth Error</th>\n",
       "      <th>Depth Seismic Stations</th>\n",
       "      <th>Magnitude</th>\n",
       "      <th>Magnitude Type</th>\n",
       "      <th>...</th>\n",
       "      <th>Magnitude Seismic Stations</th>\n",
       "      <th>Azimuthal Gap</th>\n",
       "      <th>Horizontal Distance</th>\n",
       "      <th>Horizontal Error</th>\n",
       "      <th>Root Mean Square</th>\n",
       "      <th>ID</th>\n",
       "      <th>Source</th>\n",
       "      <th>Location Source</th>\n",
       "      <th>Magnitude Source</th>\n",
       "      <th>Status</th>\n",
       "    </tr>\n",
       "  </thead>\n",
       "  <tbody>\n",
       "    <tr>\n",
       "      <th>0</th>\n",
       "      <td>01/02/1965</td>\n",
       "      <td>13:44:18</td>\n",
       "      <td>19.246</td>\n",
       "      <td>145.616</td>\n",
       "      <td>Earthquake</td>\n",
       "      <td>131.6</td>\n",
       "      <td>NaN</td>\n",
       "      <td>NaN</td>\n",
       "      <td>6.0</td>\n",
       "      <td>MW</td>\n",
       "      <td>...</td>\n",
       "      <td>NaN</td>\n",
       "      <td>NaN</td>\n",
       "      <td>NaN</td>\n",
       "      <td>NaN</td>\n",
       "      <td>NaN</td>\n",
       "      <td>ISCGEM860706</td>\n",
       "      <td>ISCGEM</td>\n",
       "      <td>ISCGEM</td>\n",
       "      <td>ISCGEM</td>\n",
       "      <td>Automatic</td>\n",
       "    </tr>\n",
       "    <tr>\n",
       "      <th>1</th>\n",
       "      <td>01/04/1965</td>\n",
       "      <td>11:29:49</td>\n",
       "      <td>1.863</td>\n",
       "      <td>127.352</td>\n",
       "      <td>Earthquake</td>\n",
       "      <td>80.0</td>\n",
       "      <td>NaN</td>\n",
       "      <td>NaN</td>\n",
       "      <td>5.8</td>\n",
       "      <td>MW</td>\n",
       "      <td>...</td>\n",
       "      <td>NaN</td>\n",
       "      <td>NaN</td>\n",
       "      <td>NaN</td>\n",
       "      <td>NaN</td>\n",
       "      <td>NaN</td>\n",
       "      <td>ISCGEM860737</td>\n",
       "      <td>ISCGEM</td>\n",
       "      <td>ISCGEM</td>\n",
       "      <td>ISCGEM</td>\n",
       "      <td>Automatic</td>\n",
       "    </tr>\n",
       "    <tr>\n",
       "      <th>2</th>\n",
       "      <td>01/05/1965</td>\n",
       "      <td>18:05:58</td>\n",
       "      <td>-20.579</td>\n",
       "      <td>-173.972</td>\n",
       "      <td>Earthquake</td>\n",
       "      <td>20.0</td>\n",
       "      <td>NaN</td>\n",
       "      <td>NaN</td>\n",
       "      <td>6.2</td>\n",
       "      <td>MW</td>\n",
       "      <td>...</td>\n",
       "      <td>NaN</td>\n",
       "      <td>NaN</td>\n",
       "      <td>NaN</td>\n",
       "      <td>NaN</td>\n",
       "      <td>NaN</td>\n",
       "      <td>ISCGEM860762</td>\n",
       "      <td>ISCGEM</td>\n",
       "      <td>ISCGEM</td>\n",
       "      <td>ISCGEM</td>\n",
       "      <td>Automatic</td>\n",
       "    </tr>\n",
       "    <tr>\n",
       "      <th>3</th>\n",
       "      <td>01/08/1965</td>\n",
       "      <td>18:49:43</td>\n",
       "      <td>-59.076</td>\n",
       "      <td>-23.557</td>\n",
       "      <td>Earthquake</td>\n",
       "      <td>15.0</td>\n",
       "      <td>NaN</td>\n",
       "      <td>NaN</td>\n",
       "      <td>5.8</td>\n",
       "      <td>MW</td>\n",
       "      <td>...</td>\n",
       "      <td>NaN</td>\n",
       "      <td>NaN</td>\n",
       "      <td>NaN</td>\n",
       "      <td>NaN</td>\n",
       "      <td>NaN</td>\n",
       "      <td>ISCGEM860856</td>\n",
       "      <td>ISCGEM</td>\n",
       "      <td>ISCGEM</td>\n",
       "      <td>ISCGEM</td>\n",
       "      <td>Automatic</td>\n",
       "    </tr>\n",
       "    <tr>\n",
       "      <th>4</th>\n",
       "      <td>01/09/1965</td>\n",
       "      <td>13:32:50</td>\n",
       "      <td>11.938</td>\n",
       "      <td>126.427</td>\n",
       "      <td>Earthquake</td>\n",
       "      <td>15.0</td>\n",
       "      <td>NaN</td>\n",
       "      <td>NaN</td>\n",
       "      <td>5.8</td>\n",
       "      <td>MW</td>\n",
       "      <td>...</td>\n",
       "      <td>NaN</td>\n",
       "      <td>NaN</td>\n",
       "      <td>NaN</td>\n",
       "      <td>NaN</td>\n",
       "      <td>NaN</td>\n",
       "      <td>ISCGEM860890</td>\n",
       "      <td>ISCGEM</td>\n",
       "      <td>ISCGEM</td>\n",
       "      <td>ISCGEM</td>\n",
       "      <td>Automatic</td>\n",
       "    </tr>\n",
       "  </tbody>\n",
       "</table>\n",
       "<p>5 rows × 21 columns</p>\n",
       "</div>"
      ],
      "text/plain": [
       "         Date      Time  Latitude  Longitude        Type  Depth  Depth Error  \\\n",
       "0  01/02/1965  13:44:18    19.246    145.616  Earthquake  131.6          NaN   \n",
       "1  01/04/1965  11:29:49     1.863    127.352  Earthquake   80.0          NaN   \n",
       "2  01/05/1965  18:05:58   -20.579   -173.972  Earthquake   20.0          NaN   \n",
       "3  01/08/1965  18:49:43   -59.076    -23.557  Earthquake   15.0          NaN   \n",
       "4  01/09/1965  13:32:50    11.938    126.427  Earthquake   15.0          NaN   \n",
       "\n",
       "   Depth Seismic Stations  Magnitude Magnitude Type  ...  \\\n",
       "0                     NaN        6.0             MW  ...   \n",
       "1                     NaN        5.8             MW  ...   \n",
       "2                     NaN        6.2             MW  ...   \n",
       "3                     NaN        5.8             MW  ...   \n",
       "4                     NaN        5.8             MW  ...   \n",
       "\n",
       "   Magnitude Seismic Stations  Azimuthal Gap  Horizontal Distance  \\\n",
       "0                         NaN            NaN                  NaN   \n",
       "1                         NaN            NaN                  NaN   \n",
       "2                         NaN            NaN                  NaN   \n",
       "3                         NaN            NaN                  NaN   \n",
       "4                         NaN            NaN                  NaN   \n",
       "\n",
       "   Horizontal Error  Root Mean Square            ID  Source Location Source  \\\n",
       "0               NaN               NaN  ISCGEM860706  ISCGEM          ISCGEM   \n",
       "1               NaN               NaN  ISCGEM860737  ISCGEM          ISCGEM   \n",
       "2               NaN               NaN  ISCGEM860762  ISCGEM          ISCGEM   \n",
       "3               NaN               NaN  ISCGEM860856  ISCGEM          ISCGEM   \n",
       "4               NaN               NaN  ISCGEM860890  ISCGEM          ISCGEM   \n",
       "\n",
       "  Magnitude Source     Status  \n",
       "0           ISCGEM  Automatic  \n",
       "1           ISCGEM  Automatic  \n",
       "2           ISCGEM  Automatic  \n",
       "3           ISCGEM  Automatic  \n",
       "4           ISCGEM  Automatic  \n",
       "\n",
       "[5 rows x 21 columns]"
      ]
     },
     "execution_count": 135,
     "metadata": {},
     "output_type": "execute_result"
    }
   ],
   "source": [
    "# Preview first 5 rows\n",
    "b_permits.head()"
   ]
  },
  {
   "cell_type": "markdown",
   "id": "23b93598-fef4-42b5-ad3b-506124d8d5c5",
   "metadata": {},
   "source": [
    "### Step 3: How Many Missing Data Points Do We Have?\n",
    "\n",
    "Now that the dataset is loaded, I want to understand **how much data is missing**.  \n",
    "This helps prioritize which columns might need to be cleaned or removed.\n",
    "\n",
    "I'll count the missing values **per column** using `.isnull().sum()`  \n",
    "Then, I preview the first few results to get a quick overview.\n"
   ]
  },
  {
   "cell_type": "code",
   "execution_count": 136,
   "id": "acb24721-1c03-4b40-bb65-8dcafada81fe",
   "metadata": {},
   "outputs": [
    {
     "data": {
      "text/plain": [
       "Date                              0\n",
       "Time                              0\n",
       "Latitude                          0\n",
       "Longitude                         0\n",
       "Type                              0\n",
       "Depth                             0\n",
       "Depth Error                   18951\n",
       "Depth Seismic Stations        16315\n",
       "Magnitude                         0\n",
       "Magnitude Type                    3\n",
       "Magnitude Error               23085\n",
       "Magnitude Seismic Stations    20848\n",
       "Azimuthal Gap                 16113\n",
       "Horizontal Distance           21808\n",
       "Horizontal Error              22256\n",
       "Root Mean Square               6060\n",
       "ID                                0\n",
       "Source                            0\n",
       "Location Source                   0\n",
       "Magnitude Source                  0\n",
       "dtype: int64"
      ]
     },
     "execution_count": 136,
     "metadata": {},
     "output_type": "execute_result"
    }
   ],
   "source": [
    "# count missing values per column\n",
    "missing_values_count = b_permits.isnull().sum()\n",
    "\n",
    "# show the first 20 columns\n",
    "missing_values_count[0:20]\n"
   ]
  },
  {
   "cell_type": "markdown",
   "id": "153846a1-2296-4bc9-aa39-ad9bd4eb92dc",
   "metadata": {},
   "source": [
    "### Step 4 How much of the data is missing?\n",
    "\n",
    "To understand the scale of the problem, we calculate the **total number of cells** in the dataset and compare it to the **total number of missing values**. This gives us a clear percentage of how much data is missing overall.\n"
   ]
  },
  {
   "cell_type": "code",
   "execution_count": 137,
   "id": "7f2fc813-c0ba-4c96-8ed1-49d6acbed82e",
   "metadata": {},
   "outputs": [
    {
     "name": "stdout",
     "output_type": "stream",
     "text": [
      "Number of rows: 23412\n",
      "Number of columns: 21\n",
      "Total number of cells: 491652\n",
      "Total missing values: 145439\n",
      "Percentage of missing data: 29.58%\n"
     ]
    }
   ],
   "source": [
    "# Get total number of rows\n",
    "count_rows = b_permits.shape[0]\n",
    "print(f\"Number of rows: {count_rows}\")\n",
    "\n",
    "# Get total number of columns\n",
    "count_cols = b_permits.shape[1]\n",
    "print(f\"Number of columns: {count_cols}\")\n",
    "\n",
    "# Calculate the total number of cells (rows × columns)\n",
    "total_cells = np.prod(b_permits.shape)\n",
    "print(f\"Total number of cells: {total_cells}\")\n",
    "\n",
    "# Sum up all missing values across all columns\n",
    "total_missing = missing_values_count.sum()\n",
    "print(f\"Total missing values: {total_missing}\")\n",
    "\n",
    "# Calculate the percentage of missing data\n",
    "percent_missing = (total_missing / total_cells) * 100\n",
    "print(f\"Percentage of missing data: {percent_missing:.2f}%\")\n"
   ]
  },
  {
   "cell_type": "markdown",
   "id": "2ccecb08-d31d-4a45-93ae-31e86b6965c1",
   "metadata": {},
   "source": [
    "### Step 5: Remove rows with missing values\n",
    "Before performing more complex cleaning techniques, a quick option is to simply remove all rows that contain any missing values. This is done using dropna() with default parameters.\n",
    "\n",
    "⚠️ Warning: This can result in a major loss of data if most rows contain at least one NaN."
   ]
  },
  {
   "cell_type": "code",
   "execution_count": 138,
   "id": "09ea870b-d88b-4f0a-a86c-fc4da0e08f71",
   "metadata": {},
   "outputs": [
    {
     "name": "stdout",
     "output_type": "stream",
     "text": [
      "Rows in original dataset: 23412\n",
      "Rows after dropping missing values: 14\n"
     ]
    }
   ],
   "source": [
    "# Drop all rows that contain at least one missing value\n",
    "b_permits_rows_dropped = b_permits.dropna()\n",
    "\n",
    "# Display how many rows we had before and after\n",
    "print(f\"Rows in original dataset: {b_permits.shape[0]}\")\n",
    "print(f\"Rows after dropping missing values: {b_permits_rows_dropped.shape[0]}\")\n",
    "\n"
   ]
  },
  {
   "cell_type": "markdown",
   "id": "dc347919-28b1-4a31-bdd0-ec3d7d47341c",
   "metadata": {},
   "source": [
    "### Step 6: Remove columns with missing values\n",
    "Since dropping rows often removes too much data, another approach is to remove only the columns that contain any missing values.\n",
    "We use dropna(axis=1) to do this. This way, we preserve all complete rows and only remove the problematic columns."
   ]
  },
  {
   "cell_type": "code",
   "execution_count": 139,
   "id": "c0e01e87-3b11-47f4-9ef1-b1982253e0f6",
   "metadata": {},
   "outputs": [
    {
     "name": "stdout",
     "output_type": "stream",
     "text": [
      "Columns in original dataset: 21\n",
      "Columns after dropping missing values: 12\n"
     ]
    }
   ],
   "source": [
    "# Drop all columns that contain at least one missing value\n",
    "b_permits_cols_dropped = b_permits.dropna(axis=1)\n",
    "\n",
    "# Display how many columns we had before and after\n",
    "print(f\"Columns in original dataset: {b_permits.shape[1]}\")\n",
    "print(f\"Columns after dropping missing values: {b_permits_cols_dropped.shape[1]}\")\n"
   ]
  },
  {
   "cell_type": "markdown",
   "id": "9055509f-8050-421f-bdb4-678a4d03e074",
   "metadata": {},
   "source": [
    "### Step 7: Imputation (Filling Missing Values)\n",
    "\n",
    "When you decide not to drop rows or columns, imputation lets you fill in missing values with something reasonable. This keeps the structure of your data intact.\n",
    "\n",
    "We’ll explore six common and quick strategies:\n",
    "\n",
    "1. **Fill numerical fields with zero**  \n",
    "   Quick, but may distort distributions or affect downstream calculations.\n",
    "\n",
    "2. **Fill numerical fields with the column mean**  \n",
    "   Works well for normally distributed data.\n",
    "\n",
    "3. **Fill numerical fields with the column median**  \n",
    "   More robust for skewed data or outliers.\n",
    "\n",
    "4. **Fill categorical fields with the mode**  \n",
    "   Ideal for non-numeric columns where the most frequent value makes sense.\n",
    "\n",
    "5. **Backfill, then fill with zero**  \n",
    "   Replaces missing values with the next valid value **below** in the same column (`bfill`), then fills remaining missing values (e.g., at the end of a column) with **0**.  \n",
    "   Useful for **time-ordered data** or datasets where the **sequence matters**.\n",
    "\n",
    "6. **Backfill, then forward fill, then fill with the mode**  \n",
    "   A more robust strategy: first fills missing values with the next valid value below (`bfill`), then with the previous value above (`ffill`), and finally replaces any remaining missing values with the **column-wise mode**.  \n",
    "   Especially useful when **no valid neighbor values** exist at either end of a column (e.g., top or bottom of time series).  \n",
    "   Works well for both numerical and categorical data if logical order is important.\n",
    "\n",
    "---\n",
    "\n",
    "**⚠️ Important:**\n",
    "\n",
    "The best imputation strategy depends on the **distribution and data type**:\n",
    "\n",
    "- For **normally distributed numerical columns**, the **mean** may work well.  \n",
    "- For **skewed numerical columns**, the **median** is often more robust.  \n",
    "- For **categorical columns**, the **mode** (most frequent value) is typically used.  \n",
    "- For **ordered observations**, **backfilling** (or forward filling) followed by a fallback value (e.g. 0 or mode) can preserve logical consistency.\n",
    "\n",
    "**Before choosing a strategy, it's good practice to examine the column distribution and the role of time or order in your dataset.**\n"
   ]
  },
  {
   "cell_type": "code",
   "execution_count": 140,
   "id": "6d255f2c-b8d7-493a-874b-61ac76e53840",
   "metadata": {},
   "outputs": [],
   "source": [
    "# Option 1: Fill all NaNs/missing values with 0\n",
    "\n",
    "b_permits_filled_zero = b_permits.fillna(0)\n"
   ]
  },
  {
   "cell_type": "code",
   "execution_count": 141,
   "id": "125cd165-0005-4deb-b4d4-2af946db61b6",
   "metadata": {},
   "outputs": [],
   "source": [
    "# Option 2: Fill missing values in numerical columns with the mean\n",
    "b_permits_filled_mean = b_permits.fillna(b_permits.mean(numeric_only=True))\n"
   ]
  },
  {
   "cell_type": "code",
   "execution_count": 142,
   "id": "4f7990ab-4cc1-44ee-8d2b-cd53508bebac",
   "metadata": {},
   "outputs": [],
   "source": [
    "# Option 3: Fill missing values in numerical columns with the median\n",
    "b_permits_filled_median = b_permits.fillna(b_permits.median(numeric_only=True))"
   ]
  },
  {
   "cell_type": "code",
   "execution_count": 143,
   "id": "4381b2e1-77db-41f3-9be8-5dce28fba263",
   "metadata": {},
   "outputs": [],
   "source": [
    "# Option 4: Fill missing values in categorical columns with the mode (most frequent value)\n",
    "# Nur kategorische Spalten auswählen\n",
    "categorical_cols = b_permits.select_dtypes(include='object')\n",
    "\n",
    "# Modus je Spalte berechnen (nur für diese Spalten)\n",
    "modes = categorical_cols.mode().iloc[0]\n",
    "\n",
    "# Nur diese Spalten befüllen\n",
    "b_permits[categorical_cols.columns] = categorical_cols.fillna(modes)\n",
    "\n"
   ]
  },
  {
   "cell_type": "code",
   "execution_count": 144,
   "id": "3ab44f66-28f1-4f2e-a572-5b2278f0bb5c",
   "metadata": {},
   "outputs": [],
   "source": [
    "# Option 5: First backfill missing values from the next row, then fill remaining with 0\n",
    "b_permits_filled = b_permits.bfill().ffill().fillna(b_permits.mode().iloc[0])\n",
    "\n"
   ]
  },
  {
   "cell_type": "code",
   "execution_count": 145,
   "id": "263dd084-ec97-4a61-a6c3-dc4d6502fa6e",
   "metadata": {},
   "outputs": [],
   "source": [
    "# Option 6: Use backfill, then forward fill, then fill remaining with column mode (robust for categorical data)\n",
    "b_permits_filled = b_permits.bfill().ffill().fillna(b_permits.mode().iloc[0])\n"
   ]
  },
  {
   "cell_type": "markdown",
   "id": "cfc44270-d4c9-4a5c-bc9b-3e8c458329d6",
   "metadata": {},
   "source": [
    "## 2️⃣ Module: Scaling vs. Normalization\n",
    "\n",
    "In this module, I’m learning how to **scale and normalize numeric data**, and what the difference is between the two.\n",
    "\n",
    "### Learning goals\n",
    "- Understand the conceptual difference between **scaling** and **normalization**\n",
    "- Apply **min-max scaling** to rescale data to a fixed range (e.g., 0–1)\n",
    "- Apply **Box-Cox normalization** to reshape data into a normal distribution\n",
    "\n",
    "We’re working with **artificial exponential data**, created using NumPy.\n",
    "\n",
    "---\n",
    "\n",
    "### Conceptual Differences\n",
    "\n",
    "- **Scaling** changes the **range** of data (e.g., to [0, 1])  \n",
    "- **Normalization** changes the **shape of the distribution** (e.g., to a Gaussian bell curve)\n",
    "\n",
    "---\n",
    "\n",
    "### Min-Max Scaling Formula\n",
    "\n",
    "To scale a value `x` to the range \\([0, 1]\\):\n",
    "\n",
    "$$\n",
    "x_{\\text{scaled}} = \\frac{x - x_{\\text{min}}}{x_{\\text{max}} - x_{\\text{min}}}\n",
    "$$\n",
    "\n",
    "---\n",
    "\n",
    "### Box-Cox Normalization Formula\n",
    "\n",
    "Given a value `x` and a parameter `\\(\\lambda\\)`, the Box-Cox transformation is defined as:\n",
    "\n",
    "$$\n",
    "x_{\\text{normalized}} =\n",
    "\\begin{cases}\n",
    "\\frac{x^\\lambda - 1}{\\lambda}, & \\text{if } \\lambda \\ne 0 \\\\\\\\\n",
    "\\ln(x), & \\text{if } \\lambda = 0\n",
    "\\end{cases}\n",
    "$$\n",
    "\n",
    "> **Note:** Box-Cox requires all values \\( x > 0 \\).\n",
    "\n",
    "---\n",
    "\n",
    "### Interpretation von Lambda `'λ'`\n",
    "\n",
    "Der Parameter `'λ'` wird automatisch vom Algorithmus gewählt, sodass die resultierenden Daten möglichst normalverteilt sind.  \n",
    "Unterschiedliche `'λ'`-Werte führen zu verschiedenen Transformationen:\n",
    "\n",
    "- `'λ = 1'`: keine Transformation  \n",
    "- `'λ = 0'`: Log-Transformation → `ln(x)`  \n",
    "- `'λ = 0.5'`: Wurzel-Transformation → `√x`  \n",
    "- `'λ = -1'`: Kehrwert-Transformation → `1/x`\n",
    "---\n",
    "In the follow-up exercise, I apply these skills to the [Building Permit Applications Data (San Francisco)](https://www.kaggle.com/datasets/aparnashastry/building-permit-applications-data?utm_source=chatgpt.com)."
   ]
  },
  {
   "cell_type": "code",
   "execution_count": 146,
   "id": "1932ad7e-97b6-423e-8f8f-fff0fb96d6ae",
   "metadata": {},
   "outputs": [
    {
     "name": "stdout",
     "output_type": "stream",
     "text": [
      "Requirement already satisfied: pandas in c:\\users\\sefer adiyaman\\pycharmprojects\\datacleaning_course_kaggle\\.venv\\lib\\site-packages (2.3.1)\n",
      "Requirement already satisfied: numpy in c:\\users\\sefer adiyaman\\pycharmprojects\\datacleaning_course_kaggle\\.venv\\lib\\site-packages (2.3.2)\n",
      "Requirement already satisfied: seaborn in c:\\users\\sefer adiyaman\\pycharmprojects\\datacleaning_course_kaggle\\.venv\\lib\\site-packages (0.13.2)\n",
      "Requirement already satisfied: matplotlib in c:\\users\\sefer adiyaman\\pycharmprojects\\datacleaning_course_kaggle\\.venv\\lib\\site-packages (3.10.3)\n",
      "Requirement already satisfied: mlxtend in c:\\users\\sefer adiyaman\\pycharmprojects\\datacleaning_course_kaggle\\.venv\\lib\\site-packages (0.23.4)\n",
      "Requirement already satisfied: scipy in c:\\users\\sefer adiyaman\\pycharmprojects\\datacleaning_course_kaggle\\.venv\\lib\\site-packages (1.16.0)\n",
      "Requirement already satisfied: python-dateutil>=2.8.2 in c:\\users\\sefer adiyaman\\pycharmprojects\\datacleaning_course_kaggle\\.venv\\lib\\site-packages (from pandas) (2.9.0.post0)\n",
      "Requirement already satisfied: pytz>=2020.1 in c:\\users\\sefer adiyaman\\pycharmprojects\\datacleaning_course_kaggle\\.venv\\lib\\site-packages (from pandas) (2025.2)\n",
      "Requirement already satisfied: tzdata>=2022.7 in c:\\users\\sefer adiyaman\\pycharmprojects\\datacleaning_course_kaggle\\.venv\\lib\\site-packages (from pandas) (2025.2)\n",
      "Requirement already satisfied: contourpy>=1.0.1 in c:\\users\\sefer adiyaman\\pycharmprojects\\datacleaning_course_kaggle\\.venv\\lib\\site-packages (from matplotlib) (1.3.3)\n",
      "Requirement already satisfied: cycler>=0.10 in c:\\users\\sefer adiyaman\\pycharmprojects\\datacleaning_course_kaggle\\.venv\\lib\\site-packages (from matplotlib) (0.12.1)\n",
      "Requirement already satisfied: fonttools>=4.22.0 in c:\\users\\sefer adiyaman\\pycharmprojects\\datacleaning_course_kaggle\\.venv\\lib\\site-packages (from matplotlib) (4.59.0)\n",
      "Requirement already satisfied: kiwisolver>=1.3.1 in c:\\users\\sefer adiyaman\\pycharmprojects\\datacleaning_course_kaggle\\.venv\\lib\\site-packages (from matplotlib) (1.4.8)\n",
      "Requirement already satisfied: packaging>=20.0 in c:\\users\\sefer adiyaman\\pycharmprojects\\datacleaning_course_kaggle\\.venv\\lib\\site-packages (from matplotlib) (25.0)\n",
      "Requirement already satisfied: pillow>=8 in c:\\users\\sefer adiyaman\\pycharmprojects\\datacleaning_course_kaggle\\.venv\\lib\\site-packages (from matplotlib) (11.3.0)\n",
      "Requirement already satisfied: pyparsing>=2.3.1 in c:\\users\\sefer adiyaman\\pycharmprojects\\datacleaning_course_kaggle\\.venv\\lib\\site-packages (from matplotlib) (3.2.3)\n",
      "Requirement already satisfied: scikit-learn>=1.3.1 in c:\\users\\sefer adiyaman\\pycharmprojects\\datacleaning_course_kaggle\\.venv\\lib\\site-packages (from mlxtend) (1.7.1)\n",
      "Requirement already satisfied: joblib>=0.13.2 in c:\\users\\sefer adiyaman\\pycharmprojects\\datacleaning_course_kaggle\\.venv\\lib\\site-packages (from mlxtend) (1.5.1)\n",
      "Requirement already satisfied: six>=1.5 in c:\\users\\sefer adiyaman\\pycharmprojects\\datacleaning_course_kaggle\\.venv\\lib\\site-packages (from python-dateutil>=2.8.2->pandas) (1.17.0)\n",
      "Requirement already satisfied: threadpoolctl>=3.1.0 in c:\\users\\sefer adiyaman\\pycharmprojects\\datacleaning_course_kaggle\\.venv\\lib\\site-packages (from scikit-learn>=1.3.1->mlxtend) (3.6.0)\n"
     ]
    },
    {
     "name": "stderr",
     "output_type": "stream",
     "text": [
      "\n",
      "[notice] A new release of pip is available: 23.2.1 -> 25.1.1\n",
      "[notice] To update, run: python.exe -m pip install --upgrade pip\n"
     ]
    }
   ],
   "source": [
    "#  Install necessary packages (only needed if not already installed)\n",
    "# Run this once in a Jupyter Notebook or in the terminal\n",
    "!pip install pandas numpy seaborn matplotlib mlxtend scipy\n",
    "\n",
    "#  Import libraries\n",
    "import pandas as pd\n",
    "import numpy as np\n",
    "\n",
    "#  Load dataset\n",
    "b_permits = pd.read_csv(\"data_cleaning_kaggle/data/ks-projects-201801.csv\")\n",
    "\n",
    "#  Set seed for reproducibility\n",
    "np.random.seed(0)\n",
    "\n",
    "#  For plotting\n",
    "import seaborn as sns\n",
    "import matplotlib.pyplot as plt\n",
    "\n",
    "#  For min-max scaling\n",
    "from mlxtend.preprocessing import minmax_scaling\n",
    "\n",
    "#  For Box-Cox transformation\n",
    "from scipy import stats\n"
   ]
  },
  {
   "cell_type": "markdown",
   "id": "c4a85031-23d5-4f7a-881e-ecade789d7e9",
   "metadata": {},
   "source": [
    "### Scaling\n",
    "\n",
    "**What it does:**  \n",
    "Scaling changes the range of your numeric data (e.g., rescaling values between 0 and 1) without altering the shape of the distribution.\n",
    "\n",
    "**Why it’s useful:**  \n",
    "Scaling is helpful when you want to ensure that all numeric features are comparable, regardless of their original units or magnitude. This prevents features with large values from having a disproportionate influence on the analysis or model behavior."
   ]
  },
  {
   "cell_type": "code",
   "execution_count": 147,
   "id": "d5f7a81a-85e5-41de-8eb1-f5aabf849a0e",
   "metadata": {},
   "outputs": [
    {
     "data": {
      "image/png": "[encoded data removed]",
      "text/plain": [
       "<Figure size 1500x300 with 2 Axes>"
      ]
     },
     "metadata": {},
     "output_type": "display_data"
    }
   ],
   "source": [
    "# -----------------------------------------\n",
    "# ORIGINAL DATA\n",
    "# -----------------------------------------\n",
    "\n",
    "# Select and clean the data\n",
    "usd_goal = b_permits[['goal']].copy()\n",
    "usd_goal = usd_goal.dropna()\n",
    "\n",
    "# -----------------------------------------\n",
    "# SCALED DATA\n",
    "# -----------------------------------------\n",
    "\n",
    "# Apply Min-Max Scaling between 0 and 1\n",
    "scaled_usd_goal = minmax_scaling(usd_goal, columns=['goal'])\n",
    "\n",
    "# -----------------------------------------\n",
    "# PLOT COMPARISON\n",
    "# -----------------------------------------\n",
    "\n",
    "fig, ax = plt.subplots(1, 2, figsize=(15, 3))\n",
    "\n",
    "# Original\n",
    "sns.histplot(stories, ax=ax[0], kde=True, bins=50)\n",
    "ax[0].set_title(\"Original Data\")\n",
    "\n",
    "# Scaled → gleiche Form zeigen!\n",
    "sns.histplot(scaled_stories, ax=ax[1], kde=True, bins=50)\n",
    "ax[1].set_title(\"Scaled Data\")\n",
    "\n",
    "plt.show()"
   ]
  },
  {
   "cell_type": "markdown",
   "id": "88a49249-54a1-4a3d-adae-5e607190a519",
   "metadata": {},
   "source": [
    "### Normalization\n",
    "\n",
    "**What it does:**  \n",
    "Normalization changes the **shape of the distribution** of your numeric data — typically to make it look like a **normal distribution** (a symmetric \"bell curve\").\n",
    "\n",
    "**Why it’s useful:**  \n",
    "Normalization is useful when you're working with statistical techniques or models that **assume normally distributed data**. Transforming your data to resemble a normal distribution improves **model accuracy, validity of statistical tests**, and interpretability of results. It also helps reduce the impact of **outliers and skewness**, making your data more balanced.\n"
   ]
  },
  {
   "cell_type": "code",
   "execution_count": 149,
   "id": "033adaa9-5e0b-4273-8541-66e971da0210",
   "metadata": {
    "scrolled": true
   },
   "outputs": [
    {
     "data": {
      "image/png": "[encoded data removed]",
      "text/plain": [
       "<Figure size 1500x300 with 2 Axes>"
      ]
     },
     "metadata": {},
     "output_type": "display_data"
    }
   ],
   "source": [
    "# Load the original dataset\n",
    "original_data = pd.read_csv(\"data_cleaning_kaggle/data/ks-projects-201801.csv\")\n",
    "\n",
    "# Select the 'pledged' column and remove missing values\n",
    "pledged_data = original_data['pledged'].dropna()\n",
    "\n",
    "# Box-Cox only works with strictly positive values\n",
    "pledged_data_positive = pledged_data[pledged_data > 0]\n",
    "\n",
    "# Normalize using Box-Cox transformation (corrected)\n",
    "normalized_data, fitted_lambda = stats.boxcox(pledged_data_positive)\n",
    "\n",
    "# Plot comparison\n",
    "fig, ax = plt.subplots(1, 2, figsize=(15, 3))\n",
    "\n",
    "# LEFT: original 'pledged' values with zoom & fine bins\n",
    "# LEFT: original 'pledged' values with zoom & fine bins\n",
    "sns.histplot(pledged_data_positive, ax=ax[0], kde=False, bins=500)\n",
    "ax[0].set_xlim(0, 1_000_000)  # Bereich sinnvoll gewählt\n",
    "ax[0].set_title(\"Original 'pledged' (zoomed & detailed)\")\n",
    "\n",
    "\n",
    "\n",
    "# RIGHT: normalized pledged values\n",
    "sns.histplot(normalized_data, ax=ax[1], kde=True, bins=20)\n",
    "ax[1].set_title(\"Box-Cox Normalized\")\n",
    "\n",
    "plt.show()"
   ]
  },
  {
   "cell_type": "markdown",
   "id": "b391976f-a4c7-41c6-8fd9-687b4b3f24d5",
   "metadata": {},
   "source": [
    "## 3️⃣ Module: Parsing Dates\n",
    "\n",
    "In this module, I’m learning how to **detect, convert, and work with dates** in a dataset using pandas.\n",
    "\n",
    "**Learning goals:**\n",
    "\n",
    "- Check the data type of date columns using `.dtype`\n",
    "- Convert text columns to `datetime` format with `pd.to_datetime()`\n",
    "- Extract parts of a date (e.g., day, month, year) using `.dt`\n",
    "- Analyze patterns over time (e.g., find the most common day of the month)\n",
    "---\n",
    "In the follow-up exercise, I apply these skills to the [Earthquake Database (USGS)](https://www.kaggle.com/datasets/usgs/earthquake-database?utm_source=chatgpt.com)."
   ]
  },
  {
   "cell_type": "code",
   "execution_count": 150,
   "id": "16ea553c-d547-477e-a5dc-9e9f268ca7c7",
   "metadata": {},
   "outputs": [
    {
     "name": "stdout",
     "output_type": "stream",
     "text": [
      "Requirement already satisfied: pandas in c:\\users\\sefer adiyaman\\pycharmprojects\\datacleaning_course_kaggle\\.venv\\lib\\site-packages (2.3.1)\n",
      "Requirement already satisfied: numpy in c:\\users\\sefer adiyaman\\pycharmprojects\\datacleaning_course_kaggle\\.venv\\lib\\site-packages (2.3.2)\n",
      "Requirement already satisfied: seaborn in c:\\users\\sefer adiyaman\\pycharmprojects\\datacleaning_course_kaggle\\.venv\\lib\\site-packages (0.13.2)\n",
      "Requirement already satisfied: python-dateutil>=2.8.2 in c:\\users\\sefer adiyaman\\pycharmprojects\\datacleaning_course_kaggle\\.venv\\lib\\site-packages (from pandas) (2.9.0.post0)\n",
      "Requirement already satisfied: pytz>=2020.1 in c:\\users\\sefer adiyaman\\pycharmprojects\\datacleaning_course_kaggle\\.venv\\lib\\site-packages (from pandas) (2025.2)\n",
      "Requirement already satisfied: tzdata>=2022.7 in c:\\users\\sefer adiyaman\\pycharmprojects\\datacleaning_course_kaggle\\.venv\\lib\\site-packages (from pandas) (2025.2)\n",
      "Requirement already satisfied: matplotlib!=3.6.1,>=3.4 in c:\\users\\sefer adiyaman\\pycharmprojects\\datacleaning_course_kaggle\\.venv\\lib\\site-packages (from seaborn) (3.10.3)\n",
      "Requirement already satisfied: contourpy>=1.0.1 in c:\\users\\sefer adiyaman\\pycharmprojects\\datacleaning_course_kaggle\\.venv\\lib\\site-packages (from matplotlib!=3.6.1,>=3.4->seaborn) (1.3.3)\n",
      "Requirement already satisfied: cycler>=0.10 in c:\\users\\sefer adiyaman\\pycharmprojects\\datacleaning_course_kaggle\\.venv\\lib\\site-packages (from matplotlib!=3.6.1,>=3.4->seaborn) (0.12.1)\n",
      "Requirement already satisfied: fonttools>=4.22.0 in c:\\users\\sefer adiyaman\\pycharmprojects\\datacleaning_course_kaggle\\.venv\\lib\\site-packages (from matplotlib!=3.6.1,>=3.4->seaborn) (4.59.0)\n",
      "Requirement already satisfied: kiwisolver>=1.3.1 in c:\\users\\sefer adiyaman\\pycharmprojects\\datacleaning_course_kaggle\\.venv\\lib\\site-packages (from matplotlib!=3.6.1,>=3.4->seaborn) (1.4.8)\n",
      "Requirement already satisfied: packaging>=20.0 in c:\\users\\sefer adiyaman\\pycharmprojects\\datacleaning_course_kaggle\\.venv\\lib\\site-packages (from matplotlib!=3.6.1,>=3.4->seaborn) (25.0)\n",
      "Requirement already satisfied: pillow>=8 in c:\\users\\sefer adiyaman\\pycharmprojects\\datacleaning_course_kaggle\\.venv\\lib\\site-packages (from matplotlib!=3.6.1,>=3.4->seaborn) (11.3.0)\n",
      "Requirement already satisfied: pyparsing>=2.3.1 in c:\\users\\sefer adiyaman\\pycharmprojects\\datacleaning_course_kaggle\\.venv\\lib\\site-packages (from matplotlib!=3.6.1,>=3.4->seaborn) (3.2.3)\n",
      "Requirement already satisfied: six>=1.5 in c:\\users\\sefer adiyaman\\pycharmprojects\\datacleaning_course_kaggle\\.venv\\lib\\site-packages (from python-dateutil>=2.8.2->pandas) (1.17.0)\n"
     ]
    },
    {
     "name": "stderr",
     "output_type": "stream",
     "text": [
      "\n",
      "[notice] A new release of pip is available: 23.2.1 -> 25.1.1\n",
      "[notice] To update, run: python.exe -m pip install --upgrade pip\n"
     ]
    }
   ],
   "source": [
    "# 📦 Install necessary packages\n",
    "!pip install pandas numpy seaborn\n",
    "\n",
    "# 📚 Import Libraries\n",
    "import pandas as pd\n",
    "import numpy as np\n",
    "import seaborn as sns\n",
    "import datetime\n",
    "\n",
    "# 📁 Load dataset\n",
    "earthquakes = pd.read_csv(\"data_cleaning_kaggle/data/earthquakes.csv\")\n",
    "\n",
    "# 🎲 Set seed for reproducibility\n",
    "np.random.seed(0)\n"
   ]
  },
  {
   "cell_type": "markdown",
   "id": "0dfb403e-9286-45bc-a7a1-657cb2a6d6d2",
   "metadata": {},
   "source": [
    "## Step 1: Check the data type of our date column\n",
    "\n",
    "In this step, I’m taking a first look at the dataset using `head()` and checking the format of the `date` column.\n",
    "\n",
    "**Goals:**\n",
    "- Get an overview of the first rows of the dataset\n",
    "- Check whether the `date` column is already in datetime format or just a string\n",
    "\n",
    "```python\n",
    "earthquakes.head()\n"
   ]
  },
  {
   "cell_type": "code",
   "execution_count": 151,
   "id": "361cbe35-68a5-4a33-b10b-c8be438ef041",
   "metadata": {},
   "outputs": [
    {
     "data": {
      "text/html": [
       "<div>\n",
       "<style scoped>\n",
       "    .dataframe tbody tr th:only-of-type {\n",
       "        vertical-align: middle;\n",
       "    }\n",
       "\n",
       "    .dataframe tbody tr th {\n",
       "        vertical-align: top;\n",
       "    }\n",
       "\n",
       "    .dataframe thead th {\n",
       "        text-align: right;\n",
       "    }\n",
       "</style>\n",
       "<table border=\"1\" class=\"dataframe\">\n",
       "  <thead>\n",
       "    <tr style=\"text-align: right;\">\n",
       "      <th></th>\n",
       "      <th>Date</th>\n",
       "      <th>Time</th>\n",
       "      <th>Latitude</th>\n",
       "      <th>Longitude</th>\n",
       "      <th>Type</th>\n",
       "      <th>Depth</th>\n",
       "      <th>Depth Error</th>\n",
       "      <th>Depth Seismic Stations</th>\n",
       "      <th>Magnitude</th>\n",
       "      <th>Magnitude Type</th>\n",
       "      <th>...</th>\n",
       "      <th>Magnitude Seismic Stations</th>\n",
       "      <th>Azimuthal Gap</th>\n",
       "      <th>Horizontal Distance</th>\n",
       "      <th>Horizontal Error</th>\n",
       "      <th>Root Mean Square</th>\n",
       "      <th>ID</th>\n",
       "      <th>Source</th>\n",
       "      <th>Location Source</th>\n",
       "      <th>Magnitude Source</th>\n",
       "      <th>Status</th>\n",
       "    </tr>\n",
       "  </thead>\n",
       "  <tbody>\n",
       "    <tr>\n",
       "      <th>0</th>\n",
       "      <td>01/02/1965</td>\n",
       "      <td>13:44:18</td>\n",
       "      <td>19.246</td>\n",
       "      <td>145.616</td>\n",
       "      <td>Earthquake</td>\n",
       "      <td>131.6</td>\n",
       "      <td>NaN</td>\n",
       "      <td>NaN</td>\n",
       "      <td>6.0</td>\n",
       "      <td>MW</td>\n",
       "      <td>...</td>\n",
       "      <td>NaN</td>\n",
       "      <td>NaN</td>\n",
       "      <td>NaN</td>\n",
       "      <td>NaN</td>\n",
       "      <td>NaN</td>\n",
       "      <td>ISCGEM860706</td>\n",
       "      <td>ISCGEM</td>\n",
       "      <td>ISCGEM</td>\n",
       "      <td>ISCGEM</td>\n",
       "      <td>Automatic</td>\n",
       "    </tr>\n",
       "    <tr>\n",
       "      <th>1</th>\n",
       "      <td>01/04/1965</td>\n",
       "      <td>11:29:49</td>\n",
       "      <td>1.863</td>\n",
       "      <td>127.352</td>\n",
       "      <td>Earthquake</td>\n",
       "      <td>80.0</td>\n",
       "      <td>NaN</td>\n",
       "      <td>NaN</td>\n",
       "      <td>5.8</td>\n",
       "      <td>MW</td>\n",
       "      <td>...</td>\n",
       "      <td>NaN</td>\n",
       "      <td>NaN</td>\n",
       "      <td>NaN</td>\n",
       "      <td>NaN</td>\n",
       "      <td>NaN</td>\n",
       "      <td>ISCGEM860737</td>\n",
       "      <td>ISCGEM</td>\n",
       "      <td>ISCGEM</td>\n",
       "      <td>ISCGEM</td>\n",
       "      <td>Automatic</td>\n",
       "    </tr>\n",
       "    <tr>\n",
       "      <th>2</th>\n",
       "      <td>01/05/1965</td>\n",
       "      <td>18:05:58</td>\n",
       "      <td>-20.579</td>\n",
       "      <td>-173.972</td>\n",
       "      <td>Earthquake</td>\n",
       "      <td>20.0</td>\n",
       "      <td>NaN</td>\n",
       "      <td>NaN</td>\n",
       "      <td>6.2</td>\n",
       "      <td>MW</td>\n",
       "      <td>...</td>\n",
       "      <td>NaN</td>\n",
       "      <td>NaN</td>\n",
       "      <td>NaN</td>\n",
       "      <td>NaN</td>\n",
       "      <td>NaN</td>\n",
       "      <td>ISCGEM860762</td>\n",
       "      <td>ISCGEM</td>\n",
       "      <td>ISCGEM</td>\n",
       "      <td>ISCGEM</td>\n",
       "      <td>Automatic</td>\n",
       "    </tr>\n",
       "    <tr>\n",
       "      <th>3</th>\n",
       "      <td>01/08/1965</td>\n",
       "      <td>18:49:43</td>\n",
       "      <td>-59.076</td>\n",
       "      <td>-23.557</td>\n",
       "      <td>Earthquake</td>\n",
       "      <td>15.0</td>\n",
       "      <td>NaN</td>\n",
       "      <td>NaN</td>\n",
       "      <td>5.8</td>\n",
       "      <td>MW</td>\n",
       "      <td>...</td>\n",
       "      <td>NaN</td>\n",
       "      <td>NaN</td>\n",
       "      <td>NaN</td>\n",
       "      <td>NaN</td>\n",
       "      <td>NaN</td>\n",
       "      <td>ISCGEM860856</td>\n",
       "      <td>ISCGEM</td>\n",
       "      <td>ISCGEM</td>\n",
       "      <td>ISCGEM</td>\n",
       "      <td>Automatic</td>\n",
       "    </tr>\n",
       "    <tr>\n",
       "      <th>4</th>\n",
       "      <td>01/09/1965</td>\n",
       "      <td>13:32:50</td>\n",
       "      <td>11.938</td>\n",
       "      <td>126.427</td>\n",
       "      <td>Earthquake</td>\n",
       "      <td>15.0</td>\n",
       "      <td>NaN</td>\n",
       "      <td>NaN</td>\n",
       "      <td>5.8</td>\n",
       "      <td>MW</td>\n",
       "      <td>...</td>\n",
       "      <td>NaN</td>\n",
       "      <td>NaN</td>\n",
       "      <td>NaN</td>\n",
       "      <td>NaN</td>\n",
       "      <td>NaN</td>\n",
       "      <td>ISCGEM860890</td>\n",
       "      <td>ISCGEM</td>\n",
       "      <td>ISCGEM</td>\n",
       "      <td>ISCGEM</td>\n",
       "      <td>Automatic</td>\n",
       "    </tr>\n",
       "  </tbody>\n",
       "</table>\n",
       "<p>5 rows × 21 columns</p>\n",
       "</div>"
      ],
      "text/plain": [
       "         Date      Time  Latitude  Longitude        Type  Depth  Depth Error  \\\n",
       "0  01/02/1965  13:44:18    19.246    145.616  Earthquake  131.6          NaN   \n",
       "1  01/04/1965  11:29:49     1.863    127.352  Earthquake   80.0          NaN   \n",
       "2  01/05/1965  18:05:58   -20.579   -173.972  Earthquake   20.0          NaN   \n",
       "3  01/08/1965  18:49:43   -59.076    -23.557  Earthquake   15.0          NaN   \n",
       "4  01/09/1965  13:32:50    11.938    126.427  Earthquake   15.0          NaN   \n",
       "\n",
       "   Depth Seismic Stations  Magnitude Magnitude Type  ...  \\\n",
       "0                     NaN        6.0             MW  ...   \n",
       "1                     NaN        5.8             MW  ...   \n",
       "2                     NaN        6.2             MW  ...   \n",
       "3                     NaN        5.8             MW  ...   \n",
       "4                     NaN        5.8             MW  ...   \n",
       "\n",
       "   Magnitude Seismic Stations  Azimuthal Gap  Horizontal Distance  \\\n",
       "0                         NaN            NaN                  NaN   \n",
       "1                         NaN            NaN                  NaN   \n",
       "2                         NaN            NaN                  NaN   \n",
       "3                         NaN            NaN                  NaN   \n",
       "4                         NaN            NaN                  NaN   \n",
       "\n",
       "   Horizontal Error  Root Mean Square            ID  Source Location Source  \\\n",
       "0               NaN               NaN  ISCGEM860706  ISCGEM          ISCGEM   \n",
       "1               NaN               NaN  ISCGEM860737  ISCGEM          ISCGEM   \n",
       "2               NaN               NaN  ISCGEM860762  ISCGEM          ISCGEM   \n",
       "3               NaN               NaN  ISCGEM860856  ISCGEM          ISCGEM   \n",
       "4               NaN               NaN  ISCGEM860890  ISCGEM          ISCGEM   \n",
       "\n",
       "  Magnitude Source     Status  \n",
       "0           ISCGEM  Automatic  \n",
       "1           ISCGEM  Automatic  \n",
       "2           ISCGEM  Automatic  \n",
       "3           ISCGEM  Automatic  \n",
       "4           ISCGEM  Automatic  \n",
       "\n",
       "[5 rows x 21 columns]"
      ]
     },
     "execution_count": 151,
     "metadata": {},
     "output_type": "execute_result"
    }
   ],
   "source": [
    "# 👀 Preview the dataset\n",
    "earthquakes.head()"
   ]
  },
  {
   "cell_type": "markdown",
   "id": "6f697e74-0785-4239-b3f6-c764914df7f0",
   "metadata": {},
   "source": [
    "## Step 2: Check the format of the `date` column\n",
    "\n",
    "We’re going to work with the `\"date\"` column from the `earthquakes` DataFrame.  \n",
    "Before doing any operations, we want to confirm whether this column actually contains valid dates.\n",
    "\n",
    "To do this, we’ll look at a few values and also check the data type of the column.\n",
    "\n",
    "---\n",
    "\n",
    "### Why this matters:\n",
    "\n",
    "- When you load a CSV file, `pandas` treats all text-based columns as `object` type by default — which just means regular strings.\n",
    "- Even if a value *looks like* a date (e.g., `\"4/15/07\"`), `pandas` doesn’t automatically recognize it as a real date.\n",
    "- To work properly with dates (e.g., for filtering or extracting parts of the date), the column needs to be in `datetime64` format.\n",
    "\n",
    "You can check the data type with `.dtype`, even without printing out the actual values.\n",
    "\n",
    "If you see `'O'` as the dtype, that means it's an `\"object\"` — in other words, just plain text.  \n",
    "You can find more about these dtype codes in the  \n",
    "[NumPy documentation on `dtype.kind`](https://docs.scipy.org/doc/numpy-1.12.0/reference/generated/numpy.dtype.kind.html#numpy.dtype.kind).\n"
   ]
  },
  {
   "cell_type": "code",
   "execution_count": 152,
   "id": "59127361-140b-49b5-b263-cd8916f0261b",
   "metadata": {},
   "outputs": [
    {
     "name": "stdout",
     "output_type": "stream",
     "text": [
      "0    01/02/1965\n",
      "1    01/04/1965\n",
      "2    01/05/1965\n",
      "3    01/08/1965\n",
      "4    01/09/1965\n",
      "Name: Date, dtype: object\n",
      "object\n"
     ]
    }
   ],
   "source": [
    "# Print the first few values from the 'date' column\n",
    "print(earthquakes['Date'].head())\n",
    "\n",
    "# Check the data type\n",
    "print(earthquakes['Date'].dtype)\n"
   ]
  },
  {
   "cell_type": "code",
   "execution_count": 153,
   "id": "ba87396d-2348-445a-b1a6-9c8d13dfb121",
   "metadata": {},
   "outputs": [
    {
     "data": {
      "text/plain": [
       "dtype('O')"
      ]
     },
     "execution_count": 153,
     "metadata": {},
     "output_type": "execute_result"
    }
   ],
   "source": [
    "# Check the data type\n",
    "earthquakes['Date'].dtype"
   ]
  },
  {
   "cell_type": "markdown",
   "id": "0607688d-7933-4bc8-9513-9b380ee4fa8d",
   "metadata": {},
   "source": [
    "## Step 3: Convert the `date` column to real datetime format\n",
    "\n",
    "Right now, the `date` column contains plain text values (strings), even though they look like dates.  \n",
    "To work with them properly – for example, to filter by year or extract parts like the month – we need to convert them into real `datetime` objects.\n",
    "\n",
    "---\n",
    "\n",
    "### How does pandas know the format?\n",
    "\n",
    "To convert text to datetime, we need to tell `pandas` how the date is written using a format string.\n",
    "\n",
    "Here are some common format codes:\n",
    "- `%m` → month (e.g., 01 or 12)\n",
    "- `%d` → day (e.g., 01 or 31)\n",
    "- `%y` → 2-digit year (e.g., 23 for 2023)\n",
    "- `%Y` → 4-digit year (e.g., 2023)\n",
    "\n",
    "**Examples:**\n",
    "- `\"1/17/07\"` → `\"%m/%d/%y\"`\n",
    "- `\"17-1-2007\"` → `\"%d-%m-%Y\"`\n",
    "\n",
    "---\n",
    "\n",
    "### Code example\n",
    "\n",
    "If our date values look like `\"4/15/07\"` (month/day/year), we use this code:\n",
    "\n",
    "```python\n",
    "# Create a new column with parsed datetime values\n",
    "earthquakes['date_parsed'] = pd.to_datetime(earthquakes['date'], format=\"%m/%d/%y\")\n"
   ]
  },
  {
   "cell_type": "code",
   "execution_count": 154,
   "id": "e65fc5f4-da4d-4645-9135-2d278d8be2e3",
   "metadata": {},
   "outputs": [
    {
     "ename": "ValueError",
     "evalue": "time data \"01/15/1965\" doesn't match format \"%d/%m/%Y\", at position 7. You might want to try:\n    - passing `format` if your strings have a consistent format;\n    - passing `format='ISO8601'` if your strings are all ISO8601 but not necessarily in exactly the same format;\n    - passing `format='mixed'`, and the format will be inferred for each element individually. You might want to use `dayfirst` alongside this.",
     "output_type": "error",
     "traceback": [
      "\u001b[31m---------------------------------------------------------------------------\u001b[39m",
      "\u001b[31mValueError\u001b[39m                                Traceback (most recent call last)",
      "\u001b[36mCell\u001b[39m\u001b[36m \u001b[39m\u001b[32mIn[154]\u001b[39m\u001b[32m, line 2\u001b[39m\n\u001b[32m      1\u001b[39m \u001b[38;5;66;03m# Convert the 'date' column into real datetime format (month/day/year with 4-digit year)\u001b[39;00m\n\u001b[32m----> \u001b[39m\u001b[32m2\u001b[39m earthquakes[\u001b[33m'\u001b[39m\u001b[33mdate_parsed\u001b[39m\u001b[33m'\u001b[39m] = \u001b[43mpd\u001b[49m\u001b[43m.\u001b[49m\u001b[43mto_datetime\u001b[49m\u001b[43m(\u001b[49m\u001b[43mearthquakes\u001b[49m\u001b[43m[\u001b[49m\u001b[33;43m'\u001b[39;49m\u001b[33;43mDate\u001b[39;49m\u001b[33;43m'\u001b[39;49m\u001b[43m]\u001b[49m\u001b[43m,\u001b[49m\u001b[43m \u001b[49m\u001b[38;5;28;43mformat\u001b[39;49m\u001b[43m=\u001b[49m\u001b[33;43m\"\u001b[39;49m\u001b[38;5;132;43;01m%d\u001b[39;49;00m\u001b[33;43m/\u001b[39;49m\u001b[33;43m%\u001b[39;49m\u001b[33;43mm/\u001b[39;49m\u001b[33;43m%\u001b[39;49m\u001b[33;43mY\u001b[39;49m\u001b[33;43m\"\u001b[39;49m\u001b[43m)\u001b[49m\n\u001b[32m      4\u001b[39m \u001b[38;5;66;03m# Preview the parsed dates\u001b[39;00m\n\u001b[32m      5\u001b[39m \u001b[38;5;28mprint\u001b[39m(earthquakes[\u001b[33m'\u001b[39m\u001b[33mdate_parsed\u001b[39m\u001b[33m'\u001b[39m].head())\n",
      "\u001b[36mFile \u001b[39m\u001b[32m~\\PycharmProjects\\DataCleaning_Course_Kaggle\\.venv\\Lib\\site-packages\\pandas\\core\\tools\\datetimes.py:1068\u001b[39m, in \u001b[36mto_datetime\u001b[39m\u001b[34m(arg, errors, dayfirst, yearfirst, utc, format, exact, unit, infer_datetime_format, origin, cache)\u001b[39m\n\u001b[32m   1066\u001b[39m             result = arg.tz_localize(\u001b[33m\"\u001b[39m\u001b[33mutc\u001b[39m\u001b[33m\"\u001b[39m)\n\u001b[32m   1067\u001b[39m \u001b[38;5;28;01melif\u001b[39;00m \u001b[38;5;28misinstance\u001b[39m(arg, ABCSeries):\n\u001b[32m-> \u001b[39m\u001b[32m1068\u001b[39m     cache_array = \u001b[43m_maybe_cache\u001b[49m\u001b[43m(\u001b[49m\u001b[43marg\u001b[49m\u001b[43m,\u001b[49m\u001b[43m \u001b[49m\u001b[38;5;28;43mformat\u001b[39;49m\u001b[43m,\u001b[49m\u001b[43m \u001b[49m\u001b[43mcache\u001b[49m\u001b[43m,\u001b[49m\u001b[43m \u001b[49m\u001b[43mconvert_listlike\u001b[49m\u001b[43m)\u001b[49m\n\u001b[32m   1069\u001b[39m     \u001b[38;5;28;01mif\u001b[39;00m \u001b[38;5;129;01mnot\u001b[39;00m cache_array.empty:\n\u001b[32m   1070\u001b[39m         result = arg.map(cache_array)\n",
      "\u001b[36mFile \u001b[39m\u001b[32m~\\PycharmProjects\\DataCleaning_Course_Kaggle\\.venv\\Lib\\site-packages\\pandas\\core\\tools\\datetimes.py:249\u001b[39m, in \u001b[36m_maybe_cache\u001b[39m\u001b[34m(arg, format, cache, convert_listlike)\u001b[39m\n\u001b[32m    247\u001b[39m unique_dates = unique(arg)\n\u001b[32m    248\u001b[39m \u001b[38;5;28;01mif\u001b[39;00m \u001b[38;5;28mlen\u001b[39m(unique_dates) < \u001b[38;5;28mlen\u001b[39m(arg):\n\u001b[32m--> \u001b[39m\u001b[32m249\u001b[39m     cache_dates = \u001b[43mconvert_listlike\u001b[49m\u001b[43m(\u001b[49m\u001b[43munique_dates\u001b[49m\u001b[43m,\u001b[49m\u001b[43m \u001b[49m\u001b[38;5;28;43mformat\u001b[39;49m\u001b[43m)\u001b[49m\n\u001b[32m    250\u001b[39m     \u001b[38;5;66;03m# GH#45319\u001b[39;00m\n\u001b[32m    251\u001b[39m     \u001b[38;5;28;01mtry\u001b[39;00m:\n",
      "\u001b[36mFile \u001b[39m\u001b[32m~\\PycharmProjects\\DataCleaning_Course_Kaggle\\.venv\\Lib\\site-packages\\pandas\\core\\tools\\datetimes.py:435\u001b[39m, in \u001b[36m_convert_listlike_datetimes\u001b[39m\u001b[34m(arg, format, name, utc, unit, errors, dayfirst, yearfirst, exact)\u001b[39m\n\u001b[32m    433\u001b[39m \u001b[38;5;66;03m# `format` could be inferred, or user didn't ask for mixed-format parsing.\u001b[39;00m\n\u001b[32m    434\u001b[39m \u001b[38;5;28;01mif\u001b[39;00m \u001b[38;5;28mformat\u001b[39m \u001b[38;5;129;01mis\u001b[39;00m \u001b[38;5;129;01mnot\u001b[39;00m \u001b[38;5;28;01mNone\u001b[39;00m \u001b[38;5;129;01mand\u001b[39;00m \u001b[38;5;28mformat\u001b[39m != \u001b[33m\"\u001b[39m\u001b[33mmixed\u001b[39m\u001b[33m\"\u001b[39m:\n\u001b[32m--> \u001b[39m\u001b[32m435\u001b[39m     \u001b[38;5;28;01mreturn\u001b[39;00m \u001b[43m_array_strptime_with_fallback\u001b[49m\u001b[43m(\u001b[49m\u001b[43marg\u001b[49m\u001b[43m,\u001b[49m\u001b[43m \u001b[49m\u001b[43mname\u001b[49m\u001b[43m,\u001b[49m\u001b[43m \u001b[49m\u001b[43mutc\u001b[49m\u001b[43m,\u001b[49m\u001b[43m \u001b[49m\u001b[38;5;28;43mformat\u001b[39;49m\u001b[43m,\u001b[49m\u001b[43m \u001b[49m\u001b[43mexact\u001b[49m\u001b[43m,\u001b[49m\u001b[43m \u001b[49m\u001b[43merrors\u001b[49m\u001b[43m)\u001b[49m\n\u001b[32m    437\u001b[39m result, tz_parsed = objects_to_datetime64(\n\u001b[32m    438\u001b[39m     arg,\n\u001b[32m    439\u001b[39m     dayfirst=dayfirst,\n\u001b[32m   (...)\u001b[39m\u001b[32m    443\u001b[39m     allow_object=\u001b[38;5;28;01mTrue\u001b[39;00m,\n\u001b[32m    444\u001b[39m )\n\u001b[32m    446\u001b[39m \u001b[38;5;28;01mif\u001b[39;00m tz_parsed \u001b[38;5;129;01mis\u001b[39;00m \u001b[38;5;129;01mnot\u001b[39;00m \u001b[38;5;28;01mNone\u001b[39;00m:\n\u001b[32m    447\u001b[39m     \u001b[38;5;66;03m# We can take a shortcut since the datetime64 numpy array\u001b[39;00m\n\u001b[32m    448\u001b[39m     \u001b[38;5;66;03m# is in UTC\u001b[39;00m\n",
      "\u001b[36mFile \u001b[39m\u001b[32m~\\PycharmProjects\\DataCleaning_Course_Kaggle\\.venv\\Lib\\site-packages\\pandas\\core\\tools\\datetimes.py:469\u001b[39m, in \u001b[36m_array_strptime_with_fallback\u001b[39m\u001b[34m(arg, name, utc, fmt, exact, errors)\u001b[39m\n\u001b[32m    458\u001b[39m \u001b[38;5;28;01mdef\u001b[39;00m\u001b[38;5;250m \u001b[39m\u001b[34m_array_strptime_with_fallback\u001b[39m(\n\u001b[32m    459\u001b[39m     arg,\n\u001b[32m    460\u001b[39m     name,\n\u001b[32m   (...)\u001b[39m\u001b[32m    464\u001b[39m     errors: \u001b[38;5;28mstr\u001b[39m,\n\u001b[32m    465\u001b[39m ) -> Index:\n\u001b[32m    466\u001b[39m \u001b[38;5;250m    \u001b[39m\u001b[33;03m\"\"\"\u001b[39;00m\n\u001b[32m    467\u001b[39m \u001b[33;03m    Call array_strptime, with fallback behavior depending on 'errors'.\u001b[39;00m\n\u001b[32m    468\u001b[39m \u001b[33;03m    \"\"\"\u001b[39;00m\n\u001b[32m--> \u001b[39m\u001b[32m469\u001b[39m     result, tz_out = \u001b[43marray_strptime\u001b[49m\u001b[43m(\u001b[49m\u001b[43marg\u001b[49m\u001b[43m,\u001b[49m\u001b[43m \u001b[49m\u001b[43mfmt\u001b[49m\u001b[43m,\u001b[49m\u001b[43m \u001b[49m\u001b[43mexact\u001b[49m\u001b[43m=\u001b[49m\u001b[43mexact\u001b[49m\u001b[43m,\u001b[49m\u001b[43m \u001b[49m\u001b[43merrors\u001b[49m\u001b[43m=\u001b[49m\u001b[43merrors\u001b[49m\u001b[43m,\u001b[49m\u001b[43m \u001b[49m\u001b[43mutc\u001b[49m\u001b[43m=\u001b[49m\u001b[43mutc\u001b[49m\u001b[43m)\u001b[49m\n\u001b[32m    470\u001b[39m     \u001b[38;5;28;01mif\u001b[39;00m tz_out \u001b[38;5;129;01mis\u001b[39;00m \u001b[38;5;129;01mnot\u001b[39;00m \u001b[38;5;28;01mNone\u001b[39;00m:\n\u001b[32m    471\u001b[39m         unit = np.datetime_data(result.dtype)[\u001b[32m0\u001b[39m]\n",
      "\u001b[36mFile \u001b[39m\u001b[32mpandas/_libs/tslibs/strptime.pyx:501\u001b[39m, in \u001b[36mpandas._libs.tslibs.strptime.array_strptime\u001b[39m\u001b[34m()\u001b[39m\n",
      "\u001b[36mFile \u001b[39m\u001b[32mpandas/_libs/tslibs/strptime.pyx:451\u001b[39m, in \u001b[36mpandas._libs.tslibs.strptime.array_strptime\u001b[39m\u001b[34m()\u001b[39m\n",
      "\u001b[36mFile \u001b[39m\u001b[32mpandas/_libs/tslibs/strptime.pyx:583\u001b[39m, in \u001b[36mpandas._libs.tslibs.strptime._parse_with_format\u001b[39m\u001b[34m()\u001b[39m\n",
      "\u001b[31mValueError\u001b[39m: time data \"01/15/1965\" doesn't match format \"%d/%m/%Y\", at position 7. You might want to try:\n    - passing `format` if your strings have a consistent format;\n    - passing `format='ISO8601'` if your strings are all ISO8601 but not necessarily in exactly the same format;\n    - passing `format='mixed'`, and the format will be inferred for each element individually. You might want to use `dayfirst` alongside this."
     ]
    }
   ],
   "source": [
    "# Convert the 'date' column into real datetime format (month/day/year with 4-digit year)\n",
    "earthquakes['date_parsed'] = pd.to_datetime(earthquakes['Date'], format=\"%d/%m/%Y\")\n",
    "\n",
    "# Preview the parsed dates\n",
    "print(earthquakes['date_parsed'].head())\n"
   ]
  },
  {
   "cell_type": "markdown",
   "id": "870fe168-a708-4a2f-ac9f-4fa6b950c978",
   "metadata": {},
   "source": [
    "## Step 4: Check for inconsistent date formats\n",
    "\n",
    "Before converting text dates into proper datetime objects, we need to make sure that all values in the `'Date'` column follow the same format.\n",
    "\n",
    "Why?  \n",
    "If the column contains multiple different date formats (e.g., some with slashes, others with dashes, some with 2-digit years, others with 4-digit years), parsing will fail unless we account for that.  \n",
    "That’s likely what caused the error earlier — we assumed one format (`\"%m/%d/%Y\"`), but the actual values include other formats as well.\n",
    "\n",
    "To avoid this, let’s first print some unique date values and inspect them manually.  \n",
    "If they all follow the same structure, we can safely define the correct format.  \n",
    "If not, we’ll need a more flexible parsing approach.\n"
   ]
  },
  {
   "cell_type": "code",
   "execution_count": 156,
   "id": "2969b2b0-dca1-44cc-9a82-eaa6fd95599a",
   "metadata": {},
   "outputs": [
    {
     "name": "stdout",
     "output_type": "stream",
     "text": [
      "Date\n",
      "MM/DD/YYYY    23409\n",
      "ISO8601           3\n",
      "Name: count, dtype: int64\n"
     ]
    }
   ],
   "source": [
    "# Function to classify date format using regular expressions\n",
    "def classify_format(date_str):\n",
    "    if re.match(r\"^\\d{2}/\\d{2}/\\d{4}$\", date_str):\n",
    "        return \"MM/DD/YYYY\"\n",
    "    elif re.match(r\"^\\d{4}-\\d{2}-\\d{2}T\", date_str):\n",
    "        return \"ISO8601\"\n",
    "    else:\n",
    "        return \"Other/Unknown\"\n",
    "\n",
    "# Apply the function to all non-null values in the 'Date' column\n",
    "format_counts = earthquakes['Date'].dropna().apply(classify_format).value_counts()\n",
    "\n",
    "# Display the number of occurrences per format\n",
    "print(format_counts)\n"
   ]
  },
  {
   "attachments": {},
   "cell_type": "markdown",
   "id": "303b3d6d-4523-4bba-b85e-a1dcda01c5ee",
   "metadata": {},
   "source": [
    "## Step 5: Convert to datetime format\n",
    "\n",
    "Now that we’ve checked for inconsistencies, we can convert the `\"Date\"` column into proper datetime format using `pd.to_datetime()`.\n",
    "\n",
    "We’ll try two different options:\n",
    "\n",
    "### Option 1: Specify the date format explicitly\n",
    "This is the recommended approach if your dates follow a consistent pattern (e.g. `\"%m/%d/%Y\"`).  \n",
    "✅ It's fast and avoids guessing errors.\n",
    "\n",
    "### Option 2: Let pandas infer the format\n",
    "If the date formats vary slightly, we can let pandas guess the structure by using `infer_datetime_format=True`.  \n",
    "⚠️ It's slower and might be unreliable if the input is too inconsistent.\n",
    "\n",
    "**Why not always use Option 2?**  \n",
    "1. Pandas might guess the wrong format, especially if the entries are messy.  \n",
    "2. It's significantly slower than providing the format explicitly.\n"
   ]
  },
  {
   "cell_type": "code",
   "execution_count": 157,
   "id": "4fdd0903-35f2-4c12-9c51-6e6d55d6bd83",
   "metadata": {},
   "outputs": [
    {
     "name": "stdout",
     "output_type": "stream",
     "text": [
      "0   1965-01-02\n",
      "1   1965-01-04\n",
      "2   1965-01-05\n",
      "3   1965-01-08\n",
      "4   1965-01-09\n",
      "Name: date_parsed_manual, dtype: datetime64[ns]\n"
     ]
    }
   ],
   "source": [
    "# Option 1: Convert using a known, consistent date format (e.g. MM/DD/YYYY)\n",
    "earthquakes['date_parsed_manual'] = pd.to_datetime(earthquakes['Date'], format=\"%m/%d/%Y\", errors='coerce')\n",
    "\n",
    "# Preview the result\n",
    "print(earthquakes['date_parsed_manual'].head())\n"
   ]
  },
  {
   "cell_type": "code",
   "execution_count": 158,
   "id": "030f6c2b-8ace-49e7-8efb-39d963e52b2a",
   "metadata": {},
   "outputs": [
    {
     "name": "stdout",
     "output_type": "stream",
     "text": [
      "0   1965-01-02\n",
      "1   1965-01-04\n",
      "2   1965-01-05\n",
      "3   1965-01-08\n",
      "4   1965-01-09\n",
      "Name: date_parsed_inferred, dtype: datetime64[ns]\n"
     ]
    }
   ],
   "source": [
    "# Option 2: Convert by letting pandas guess the format\n",
    "earthquakes['date_parsed_inferred'] = pd.to_datetime(earthquakes['Date'], errors='coerce')\n",
    "\n",
    "# Preview the result\n",
    "print(earthquakes['date_parsed_inferred'].head())\n"
   ]
  },
  {
   "cell_type": "markdown",
   "id": "7eea4d2a-d697-485d-8940-ca20e8ba1ddd",
   "metadata": {},
   "source": [
    "## Step 6: Get the day of the month from the date\n",
    "\n",
    "Now that we’ve successfully converted our text dates into real datetime objects, we can extract specific parts of the date.  \n",
    "One useful example is finding out **on which day of the month** each event occurred.\n",
    "\n",
    "This helps us explore patterns — for instance, do certain events tend to happen early, mid, or late in the month?\n",
    "\n",
    "To get the day from each date, we use the `.dt.day` accessor, which pulls out the day number (1–31) from each datetime.\n",
    "\n",
    "Let’s try it now.\n"
   ]
  },
  {
   "cell_type": "code",
   "execution_count": 159,
   "id": "c8c7f2ab-ed9a-4758-b572-c98399eb42d1",
   "metadata": {},
   "outputs": [
    {
     "data": {
      "text/plain": [
       "0    2.0\n",
       "1    4.0\n",
       "2    5.0\n",
       "3    8.0\n",
       "4    9.0\n",
       "Name: date_parsed_manual, dtype: float64"
      ]
     },
     "execution_count": 159,
     "metadata": {},
     "output_type": "execute_result"
    }
   ],
   "source": [
    "# Get the day of the month from the parsed date column\n",
    "day_of_month_earthquakes = earthquakes['date_parsed_manual'].dt.day\n",
    "\n",
    "# Preview the result\n",
    "day_of_month_earthquakes.head()\n"
   ]
  },
  {
   "cell_type": "markdown",
   "id": "98039b9f-b63d-4ef6-9e7b-13987df85af3",
   "metadata": {},
   "source": [
    "## Step 7: Plot the day of the month to validate date parsing\n",
    "\n",
    "After converting our date column to proper datetime format, it’s a good idea to double-check if everything was parsed correctly.  \n",
    "One common mistake is mixing up the **day** and **month**, especially if the dates come in different formats.\n",
    "\n",
    "To do a quick validation, we’ll plot a histogram showing how often each **day of the month** appears in the data.  \n",
    "If parsing was correct, we should see values between 1 and 31, and a fairly even distribution — maybe with a small dip at 31 (since not all months have 31 days).\n",
    "\n",
    "This plot helps us catch any unexpected patterns or parsing errors."
   ]
  },
  {
   "cell_type": "code",
   "execution_count": 160,
   "id": "5727e381-104f-4176-9b51-718924470b83",
   "metadata": {},
   "outputs": [
    {
     "data": {
      "text/plain": [
       "<seaborn.axisgrid.FacetGrid at 0x1ef793a3380>"
      ]
     },
     "execution_count": 160,
     "metadata": {},
     "output_type": "execute_result"
    },
    {
     "data": {
      "image/png": "[encoded data removed]",
      "text/plain": [
       "<Figure size 500x500 with 1 Axes>"
      ]
     },
     "metadata": {},
     "output_type": "display_data"
    }
   ],
   "source": [
    "# 1. Remove missing values (NA) from the parsed date column\n",
    "day_of_month_earthquakes = day_of_month_earthquakes.dropna()\n",
    "\n",
    "# 2. Plot a histogram of the day values (1–31)\n",
    "# 'kde=False' disables the smooth curve, 'bins=31' sets one bin per day\n",
    "sns.displot(day_of_month_earthquakes, kde=False, bins=31)\n"
   ]
  },
  {
   "cell_type": "markdown",
   "id": "0e3f71de-06c0-495d-850f-2ae5608aafd0",
   "metadata": {},
   "source": [
    "## 4️⃣ Module: Character Encodings\n",
    "\n",
    "In this part of the course, we explore **character encodings** – the rules that computers use to translate raw byte data into readable text.\n",
    "\n",
    "---\n",
    "\n",
    "Character encodings define how raw binary (e.g. `01001101`) gets mapped into human-readable text.  \n",
    "When text is saved in one encoding but read using a different one, strange characters can appear.\n",
    "\n",
    "This error is called **mojibake** — a Japanese word meaning “scrambled text”.  \n",
    "It happens when the software interprets bytes using the **wrong encoding**, causing weird outputs like:\n",
    "\n",
    "```\n",
    "æ–‡å—åŒ–ã??\n",
    "```\n",
    "\n",
    "Most text files today use **UTF-8**, which is also the default in Python 3.  \n",
    "But older files might use encodings like **Windows-1252** or **ISO-8859-1** — and that causes trouble.\n",
    "\n",
    "✅ To avoid encoding problems:\n",
    "- Detect the correct encoding early (e.g. with `charset_normalizer`)\n",
    "- Always convert input data to **UTF-8** as soon as possible\n",
    "\n",
    "---\n",
    "📖 Imagine this:\n",
    "\n",
    "You receive a letter written in English, but you mistakenly think it's Japanese, so you grab a Japanese dictionary to read it.\n",
    "\n",
    "What happens?\n",
    "You get nonsense like this:\n",
    "\n",
    "“Hello” → 誤解驚変?! 😵\n",
    "\n",
    "That's exactly what mojibake is:\n",
    "You're using the wrong dictionary (encoding) to interpret the message.\n",
    "\n",
    "🗝️ The Key Rule:\n",
    "💡 Always decode text using the same language (encoding) it was written in!\n",
    "\n",
    "If the text was saved in UTF-8, you must also read it with UTF-8.\n",
    "If you read UTF-8 as ASCII or Windows-1252, you’ll get garbage characters – that’s mojibake.\n",
    "\n",
    "---\n",
    "\n",
    "In the follow-up exercise, I apply these skills to the [Kaggle lesson on character encodings and data types](https://www.kaggle.com/code/alexisbcook/character-encodings/data)."
   ]
  },
  {
   "cell_type": "code",
   "execution_count": 161,
   "id": "f96bc149-fc62-4cfa-aa51-5f9809028179",
   "metadata": {},
   "outputs": [
    {
     "name": "stdout",
     "output_type": "stream",
     "text": [
      "Requirement already satisfied: pandas in c:\\users\\sefer adiyaman\\pycharmprojects\\datacleaning_course_kaggle\\.venv\\lib\\site-packages (2.3.1)\n",
      "Requirement already satisfied: numpy in c:\\users\\sefer adiyaman\\pycharmprojects\\datacleaning_course_kaggle\\.venv\\lib\\site-packages (2.3.2)\n",
      "Requirement already satisfied: charset-normalizer in c:\\users\\sefer adiyaman\\pycharmprojects\\datacleaning_course_kaggle\\.venv\\lib\\site-packages (3.4.2)\n",
      "Requirement already satisfied: python-dateutil>=2.8.2 in c:\\users\\sefer adiyaman\\pycharmprojects\\datacleaning_course_kaggle\\.venv\\lib\\site-packages (from pandas) (2.9.0.post0)\n",
      "Requirement already satisfied: pytz>=2020.1 in c:\\users\\sefer adiyaman\\pycharmprojects\\datacleaning_course_kaggle\\.venv\\lib\\site-packages (from pandas) (2025.2)\n",
      "Requirement already satisfied: tzdata>=2022.7 in c:\\users\\sefer adiyaman\\pycharmprojects\\datacleaning_course_kaggle\\.venv\\lib\\site-packages (from pandas) (2025.2)\n",
      "Requirement already satisfied: six>=1.5 in c:\\users\\sefer adiyaman\\pycharmprojects\\datacleaning_course_kaggle\\.venv\\lib\\site-packages (from python-dateutil>=2.8.2->pandas) (1.17.0)\n"
     ]
    },
    {
     "name": "stderr",
     "output_type": "stream",
     "text": [
      "\n",
      "[notice] A new release of pip is available: 23.2.1 -> 25.1.1\n",
      "[notice] To update, run: python.exe -m pip install --upgrade pip\n"
     ]
    }
   ],
   "source": [
    "!pip install pandas numpy charset-normalizer\n",
    "\n",
    "#  Import libraries\n",
    "import pandas as pd\n",
    "import numpy as np\n",
    "import charset_normalizer\n",
    "\n",
    "#  Set seed for reproducibility\n",
    "np.random.seed(0)"
   ]
  },
  {
   "cell_type": "markdown",
   "id": "4208f2af-157b-48ec-9086-7ac62839be1e",
   "metadata": {},
   "source": [
    "## Step 1: Encoding vs. Bytes – Simple Python String Tests\n",
    "\n",
    "In this step, we compare **text strings** and **byte sequences** in Python.  \n",
    "We test how to convert strings to bytes and back – and see what happens during encoding.\n",
    "\n",
    "---\n",
    "\n",
    "***🧠 Key Takeaways***\n",
    "\n",
    "- Strings are human-readable and of type `str`.\n",
    "- Bytes are encoded versions of strings and of type `bytes`.\n",
    "- The euro sign `€` becomes a 3-byte sequence in UTF-8: `\\xe2\\x82\\xac`.\n",
    "- We must decode using the **same encoding** (`utf-8`) to get the correct output.\n",
    "\n",
    "---\n",
    "\n",
    "***🔄 What do `.encode()` and `.decode()` do?***\n",
    "\n",
    "When working with text data in Python, we often need to **convert between strings and bytes**.  \n",
    "This is where `.encode()` and `.decode()` come into play:\n",
    "\n",
    "---\n",
    "\n",
    "***🔁.encode(): String → Bytes***\n",
    "\n",
    "- Takes a **human-readable string** (like `\"Hello €\"`) and **encodes** it into a **byte format** the computer can store or transmit.\n",
    "- You must specify the encoding (e.g. `\"utf-8\"` or `\"ascii\"`).\n",
    "\n",
    "```python\n",
    "\"Hello €\".encode(\"utf-8\")\n",
    "```\n",
    "\n",
    "---\n",
    "\n",
    "***🔁.decode(): Bytes → String***\n",
    "\n",
    "- Takes a **byte sequence** (like `b'\\xe2\\x82\\xac'`) and **decodes** it into a **human-readable string**.\n",
    "- You must use the **same encoding** that was originally used to create the bytes.\n",
    "\n",
    "```python\n",
    "b'\\xe2\\x82\\xac'.decode(\"utf-8\")\n",
    "```\n",
    "\n",
    "---\n"
   ]
  },
  {
   "cell_type": "code",
   "execution_count": 162,
   "id": "39b4cacb-3e83-4c08-9f27-e1c19b030891",
   "metadata": {},
   "outputs": [
    {
     "name": "stdout",
     "output_type": "stream",
     "text": [
      "<class 'str'>\n",
      "<class 'bytes'>\n",
      "b'This is the euro symbol: \\xe2\\x82\\xac'\n",
      "This is the euro symbol: €\n"
     ]
    }
   ],
   "source": [
    "# Start with a simple string\n",
    "before = \"This is the euro symbol: €\"\n",
    "print(type(before))     # <class 'str'>\n",
    "\n",
    "# Convert to bytes using UTF-8\n",
    "after = before.encode(\"utf-8\", errors=\"replace\")\n",
    "print(type(after))      # <class 'bytes'>\n",
    "print(after)            # Shows b'This is the euro symbol: \\xe2\\x82\\xac'\n",
    "\n",
    "# Convert it back to string (correctly)\n",
    "print(after.decode(\"utf-8\"))\n"
   ]
  },
  {
   "cell_type": "markdown",
   "id": "680f6933-f7fe-4285-bbff-3b8400a6bd18",
   "metadata": {},
   "source": [
    "## Step 2: What Happens with Wrong Encoding?\n",
    "\n",
    "When you try to decode text using the **wrong character encoding**, Python doesn't know how to translate certain byte sequences into readable characters.\n",
    "\n",
    "For example, **ASCII** can only represent standard English characters.  \n",
    "If your byte data contains symbols like `€`, decoding with ASCII will fail — because ASCII doesn't have a rule for what byte `0xe2` (used in UTF-8 for €) should mean.\n",
    "\n",
    "This will raise a `UnicodeDecodeError`.\n",
    "\n",
    "🧠 **Analogy**: Think of it like using a **CD player** to play a **cassette tape**. The data is there — but you're using the wrong decoder, so it won't work!\n",
    "\n",
    "---\n",
    "\n",
    "If we try to decode using ASCII **without handling the error**, we get:\n",
    "\n",
    "UnicodeDecodeError: 'ascii' codec can't decode byte 0xe2 in position 25: ordinal not in range(128)\n",
    "\n",
    "\n",
    "But if we use `errors=\"replace\"` during encoding or decoding, the characters ASCII can’t understand will be replaced with a `?`.  \n",
    "This makes the string human-readable again, **but the original data is lost**!\n",
    "\n",
    "⚠️ Best practice: **Always convert non-UTF-8 input to UTF-8 as early as possible** when working with text data.\n",
    "\n"
   ]
  },
  {
   "cell_type": "code",
   "execution_count": 163,
   "id": "fbcc323f-a31b-4420-ba8f-532178917075",
   "metadata": {},
   "outputs": [
    {
     "ename": "UnicodeDecodeError",
     "evalue": "'ascii' codec can't decode byte 0xe2 in position 25: ordinal not in range(128)",
     "output_type": "error",
     "traceback": [
      "\u001b[31m---------------------------------------------------------------------------\u001b[39m",
      "\u001b[31mUnicodeDecodeError\u001b[39m                        Traceback (most recent call last)",
      "\u001b[36mCell\u001b[39m\u001b[36m \u001b[39m\u001b[32mIn[163]\u001b[39m\u001b[32m, line 3\u001b[39m\n\u001b[32m      1\u001b[39m \u001b[38;5;66;03m# Try decoding with the wrong encoding (ASCII)\u001b[39;00m\n\u001b[32m----> \u001b[39m\u001b[32m3\u001b[39m \u001b[38;5;28mprint\u001b[39m(\u001b[43mafter\u001b[49m\u001b[43m.\u001b[49m\u001b[43mdecode\u001b[49m\u001b[43m(\u001b[49m\u001b[33;43m\"\u001b[39;49m\u001b[33;43mascii\u001b[39;49m\u001b[33;43m\"\u001b[39;49m\u001b[43m)\u001b[49m)\n",
      "\u001b[31mUnicodeDecodeError\u001b[39m: 'ascii' codec can't decode byte 0xe2 in position 25: ordinal not in range(128)"
     ]
    }
   ],
   "source": [
    "# Try decoding with the wrong encoding (ASCII)\n",
    "\n",
    "print(after.decode(\"ascii\"))"
   ]
  },
  {
   "cell_type": "code",
   "execution_count": 164,
   "id": "8e7d0571-566d-4186-9d5a-4c17b75d8afc",
   "metadata": {},
   "outputs": [
    {
     "name": "stdout",
     "output_type": "stream",
     "text": [
      "This is the euro symbol: ?\n"
     ]
    }
   ],
   "source": [
    "# Start with a string that contains a special character (euro symbol)\n",
    "before = \"This is the euro symbol: €\"\n",
    "\n",
    "# Encode the string into ASCII bytes\n",
    "# But ASCII can't handle the euro sign (€), so we add errors=\"replace\"\n",
    "# That means: replace unsupported characters with a \"?\" placeholder\n",
    "after = before.encode(\"ascii\", errors=\"replace\")\n",
    "# Now we try to decode those bytes back into a string\n",
    "# We're using ASCII again to match the encoding\n",
    "print(after.decode(\"ascii\"))\n"
   ]
  },
  {
   "cell_type": "markdown",
   "id": "59e41e7d-400b-4e92-9d29-310295fdef8f",
   "metadata": {},
   "source": [
    "## Step 4 Reading in files with encoding problems\n",
    "\n",
    "Most files you work with will probably use **UTF-8** encoding.  \n",
    "Python expects this by default, so usually everything works fine.\n",
    "\n",
    "But sometimes you get an error if the file was saved in a **different format** (like Windows-1252 or ISO-8859-1).  \n",
    "Then Python doesn't understand some characters and shows a **UnicodeDecodeError**."
   ]
  },
  {
   "cell_type": "code",
   "execution_count": 165,
   "id": "9bd72c9d-11d4-4afd-a5d9-4d88537d7b06",
   "metadata": {},
   "outputs": [
    {
     "ename": "UnicodeDecodeError",
     "evalue": "'utf-8' codec can't decode byte 0x99 in position 7955: invalid start byte",
     "output_type": "error",
     "traceback": [
      "\u001b[31m---------------------------------------------------------------------------\u001b[39m",
      "\u001b[31mUnicodeDecodeError\u001b[39m                        Traceback (most recent call last)",
      "\u001b[36mCell\u001b[39m\u001b[36m \u001b[39m\u001b[32mIn[165]\u001b[39m\u001b[32m, line 2\u001b[39m\n\u001b[32m      1\u001b[39m \u001b[38;5;66;03m# Load Dataset\u001b[39;00m\n\u001b[32m----> \u001b[39m\u001b[32m2\u001b[39m kickstarter_2016 = \u001b[43mpd\u001b[49m\u001b[43m.\u001b[49m\u001b[43mread_csv\u001b[49m\u001b[43m(\u001b[49m\u001b[33;43m\"\u001b[39;49m\u001b[33;43mdata_cleaning_kaggle/data/ks-projects-201612.csv\u001b[39;49m\u001b[33;43m\"\u001b[39;49m\u001b[43m)\u001b[49m\n",
      "\u001b[36mFile \u001b[39m\u001b[32m~\\PycharmProjects\\DataCleaning_Course_Kaggle\\.venv\\Lib\\site-packages\\pandas\\io\\parsers\\readers.py:1026\u001b[39m, in \u001b[36mread_csv\u001b[39m\u001b[34m(filepath_or_buffer, sep, delimiter, header, names, index_col, usecols, dtype, engine, converters, true_values, false_values, skipinitialspace, skiprows, skipfooter, nrows, na_values, keep_default_na, na_filter, verbose, skip_blank_lines, parse_dates, infer_datetime_format, keep_date_col, date_parser, date_format, dayfirst, cache_dates, iterator, chunksize, compression, thousands, decimal, lineterminator, quotechar, quoting, doublequote, escapechar, comment, encoding, encoding_errors, dialect, on_bad_lines, delim_whitespace, low_memory, memory_map, float_precision, storage_options, dtype_backend)\u001b[39m\n\u001b[32m   1013\u001b[39m kwds_defaults = _refine_defaults_read(\n\u001b[32m   1014\u001b[39m     dialect,\n\u001b[32m   1015\u001b[39m     delimiter,\n\u001b[32m   (...)\u001b[39m\u001b[32m   1022\u001b[39m     dtype_backend=dtype_backend,\n\u001b[32m   1023\u001b[39m )\n\u001b[32m   1024\u001b[39m kwds.update(kwds_defaults)\n\u001b[32m-> \u001b[39m\u001b[32m1026\u001b[39m \u001b[38;5;28;01mreturn\u001b[39;00m \u001b[43m_read\u001b[49m\u001b[43m(\u001b[49m\u001b[43mfilepath_or_buffer\u001b[49m\u001b[43m,\u001b[49m\u001b[43m \u001b[49m\u001b[43mkwds\u001b[49m\u001b[43m)\u001b[49m\n",
      "\u001b[36mFile \u001b[39m\u001b[32m~\\PycharmProjects\\DataCleaning_Course_Kaggle\\.venv\\Lib\\site-packages\\pandas\\io\\parsers\\readers.py:620\u001b[39m, in \u001b[36m_read\u001b[39m\u001b[34m(filepath_or_buffer, kwds)\u001b[39m\n\u001b[32m    617\u001b[39m _validate_names(kwds.get(\u001b[33m\"\u001b[39m\u001b[33mnames\u001b[39m\u001b[33m\"\u001b[39m, \u001b[38;5;28;01mNone\u001b[39;00m))\n\u001b[32m    619\u001b[39m \u001b[38;5;66;03m# Create the parser.\u001b[39;00m\n\u001b[32m--> \u001b[39m\u001b[32m620\u001b[39m parser = \u001b[43mTextFileReader\u001b[49m\u001b[43m(\u001b[49m\u001b[43mfilepath_or_buffer\u001b[49m\u001b[43m,\u001b[49m\u001b[43m \u001b[49m\u001b[43m*\u001b[49m\u001b[43m*\u001b[49m\u001b[43mkwds\u001b[49m\u001b[43m)\u001b[49m\n\u001b[32m    622\u001b[39m \u001b[38;5;28;01mif\u001b[39;00m chunksize \u001b[38;5;129;01mor\u001b[39;00m iterator:\n\u001b[32m    623\u001b[39m     \u001b[38;5;28;01mreturn\u001b[39;00m parser\n",
      "\u001b[36mFile \u001b[39m\u001b[32m~\\PycharmProjects\\DataCleaning_Course_Kaggle\\.venv\\Lib\\site-packages\\pandas\\io\\parsers\\readers.py:1620\u001b[39m, in \u001b[36mTextFileReader.__init__\u001b[39m\u001b[34m(self, f, engine, **kwds)\u001b[39m\n\u001b[32m   1617\u001b[39m     \u001b[38;5;28mself\u001b[39m.options[\u001b[33m\"\u001b[39m\u001b[33mhas_index_names\u001b[39m\u001b[33m\"\u001b[39m] = kwds[\u001b[33m\"\u001b[39m\u001b[33mhas_index_names\u001b[39m\u001b[33m\"\u001b[39m]\n\u001b[32m   1619\u001b[39m \u001b[38;5;28mself\u001b[39m.handles: IOHandles | \u001b[38;5;28;01mNone\u001b[39;00m = \u001b[38;5;28;01mNone\u001b[39;00m\n\u001b[32m-> \u001b[39m\u001b[32m1620\u001b[39m \u001b[38;5;28mself\u001b[39m._engine = \u001b[38;5;28;43mself\u001b[39;49m\u001b[43m.\u001b[49m\u001b[43m_make_engine\u001b[49m\u001b[43m(\u001b[49m\u001b[43mf\u001b[49m\u001b[43m,\u001b[49m\u001b[43m \u001b[49m\u001b[38;5;28;43mself\u001b[39;49m\u001b[43m.\u001b[49m\u001b[43mengine\u001b[49m\u001b[43m)\u001b[49m\n",
      "\u001b[36mFile \u001b[39m\u001b[32m~\\PycharmProjects\\DataCleaning_Course_Kaggle\\.venv\\Lib\\site-packages\\pandas\\io\\parsers\\readers.py:1898\u001b[39m, in \u001b[36mTextFileReader._make_engine\u001b[39m\u001b[34m(self, f, engine)\u001b[39m\n\u001b[32m   1895\u001b[39m     \u001b[38;5;28;01mraise\u001b[39;00m \u001b[38;5;167;01mValueError\u001b[39;00m(msg)\n\u001b[32m   1897\u001b[39m \u001b[38;5;28;01mtry\u001b[39;00m:\n\u001b[32m-> \u001b[39m\u001b[32m1898\u001b[39m     \u001b[38;5;28;01mreturn\u001b[39;00m \u001b[43mmapping\u001b[49m\u001b[43m[\u001b[49m\u001b[43mengine\u001b[49m\u001b[43m]\u001b[49m\u001b[43m(\u001b[49m\u001b[43mf\u001b[49m\u001b[43m,\u001b[49m\u001b[43m \u001b[49m\u001b[43m*\u001b[49m\u001b[43m*\u001b[49m\u001b[38;5;28;43mself\u001b[39;49m\u001b[43m.\u001b[49m\u001b[43moptions\u001b[49m\u001b[43m)\u001b[49m\n\u001b[32m   1899\u001b[39m \u001b[38;5;28;01mexcept\u001b[39;00m \u001b[38;5;167;01mException\u001b[39;00m:\n\u001b[32m   1900\u001b[39m     \u001b[38;5;28;01mif\u001b[39;00m \u001b[38;5;28mself\u001b[39m.handles \u001b[38;5;129;01mis\u001b[39;00m \u001b[38;5;129;01mnot\u001b[39;00m \u001b[38;5;28;01mNone\u001b[39;00m:\n",
      "\u001b[36mFile \u001b[39m\u001b[32m~\\PycharmProjects\\DataCleaning_Course_Kaggle\\.venv\\Lib\\site-packages\\pandas\\io\\parsers\\c_parser_wrapper.py:93\u001b[39m, in \u001b[36mCParserWrapper.__init__\u001b[39m\u001b[34m(self, src, **kwds)\u001b[39m\n\u001b[32m     90\u001b[39m \u001b[38;5;28;01mif\u001b[39;00m kwds[\u001b[33m\"\u001b[39m\u001b[33mdtype_backend\u001b[39m\u001b[33m\"\u001b[39m] == \u001b[33m\"\u001b[39m\u001b[33mpyarrow\u001b[39m\u001b[33m\"\u001b[39m:\n\u001b[32m     91\u001b[39m     \u001b[38;5;66;03m# Fail here loudly instead of in cython after reading\u001b[39;00m\n\u001b[32m     92\u001b[39m     import_optional_dependency(\u001b[33m\"\u001b[39m\u001b[33mpyarrow\u001b[39m\u001b[33m\"\u001b[39m)\n\u001b[32m---> \u001b[39m\u001b[32m93\u001b[39m \u001b[38;5;28mself\u001b[39m._reader = \u001b[43mparsers\u001b[49m\u001b[43m.\u001b[49m\u001b[43mTextReader\u001b[49m\u001b[43m(\u001b[49m\u001b[43msrc\u001b[49m\u001b[43m,\u001b[49m\u001b[43m \u001b[49m\u001b[43m*\u001b[49m\u001b[43m*\u001b[49m\u001b[43mkwds\u001b[49m\u001b[43m)\u001b[49m\n\u001b[32m     95\u001b[39m \u001b[38;5;28mself\u001b[39m.unnamed_cols = \u001b[38;5;28mself\u001b[39m._reader.unnamed_cols\n\u001b[32m     97\u001b[39m \u001b[38;5;66;03m# error: Cannot determine type of 'names'\u001b[39;00m\n",
      "\u001b[36mFile \u001b[39m\u001b[32mpandas/_libs/parsers.pyx:574\u001b[39m, in \u001b[36mpandas._libs.parsers.TextReader.__cinit__\u001b[39m\u001b[34m()\u001b[39m\n",
      "\u001b[36mFile \u001b[39m\u001b[32mpandas/_libs/parsers.pyx:663\u001b[39m, in \u001b[36mpandas._libs.parsers.TextReader._get_header\u001b[39m\u001b[34m()\u001b[39m\n",
      "\u001b[36mFile \u001b[39m\u001b[32mpandas/_libs/parsers.pyx:874\u001b[39m, in \u001b[36mpandas._libs.parsers.TextReader._tokenize_rows\u001b[39m\u001b[34m()\u001b[39m\n",
      "\u001b[36mFile \u001b[39m\u001b[32mpandas/_libs/parsers.pyx:891\u001b[39m, in \u001b[36mpandas._libs.parsers.TextReader._check_tokenize_status\u001b[39m\u001b[34m()\u001b[39m\n",
      "\u001b[36mFile \u001b[39m\u001b[32mpandas/_libs/parsers.pyx:2053\u001b[39m, in \u001b[36mpandas._libs.parsers.raise_parser_error\u001b[39m\u001b[34m()\u001b[39m\n",
      "\u001b[36mFile \u001b[39m\u001b[32m<frozen codecs>:325\u001b[39m, in \u001b[36mdecode\u001b[39m\u001b[34m(self, input, final)\u001b[39m\n",
      "\u001b[31mUnicodeDecodeError\u001b[39m: 'utf-8' codec can't decode byte 0x99 in position 7955: invalid start byte"
     ]
    }
   ],
   "source": [
    "# Load Dataset\n",
    "kickstarter_2016 = pd.read_csv(\"data_cleaning_kaggle/data/ks-projects-201612.csv\")\n"
   ]
  },
  {
   "cell_type": "markdown",
   "id": "2cdeef2b-f67e-47df-a1f7-e3aa25896c32",
   "metadata": {},
   "source": [
    "## Step 5: Guess the Encoding with charset_normalizer\n",
    "Sometimes we don't know which encoding a file uses.\n",
    "If we try to open the file with the wrong encoding, Python will show a UnicodeDecodeError.\n",
    "\n",
    "To avoid guessing manually, we can use the charset_normalizer module.\n",
    "It reads the first 10,000 bytes of the file and tries to guess the encoding.\n",
    "\n",
    "This is much faster than checking the whole file – and usually works well.\n",
    "\n",
    "We just look at the beginning of the file, because the first error often happens early in the text."
   ]
  },
  {
   "cell_type": "code",
   "execution_count": 166,
   "id": "2ece8575-678b-44ea-b224-56c9a71135be",
   "metadata": {},
   "outputs": [
    {
     "name": "stdout",
     "output_type": "stream",
     "text": [
      "{'encoding': 'windows-1250', 'language': 'English', 'confidence': 1.0}\n"
     ]
    }
   ],
   "source": [
    "# Look at the first 10,000 bytes of the file and guess the encoding\n",
    "with open(\"data_cleaning_kaggle/data/ks-projects-201612.csv\", 'rb') as rawdata:\n",
    "    result = charset_normalizer.detect(rawdata.read(10000))\n",
    "\n",
    "# Show the guessed encoding\n",
    "print(result)\n"
   ]
  },
  {
   "cell_type": "markdown",
   "id": "5d437acf-1613-456e-8b06-31a012e9ea34",
   "metadata": {},
   "source": [
    "### 🧠 What’s Happening Here?\n",
    "\n",
    "#### 1. `open(..., 'rb')`\n",
    "- Opens the file in **binary mode** (`rb = read binary`), so you get **bytes**, not plain text.\n",
    "- This is important if you want to **detect the encoding** — because you need the raw data.\n",
    "\n",
    "#### 2. `rawdata.read(10000)`\n",
    "- Reads the **first 10,000 bytes** of the file (⚠️ not 10,000 characters!).\n",
    "- That’s usually enough to get a good guess of the file’s encoding.\n",
    "\n",
    "#### 3. `charset_normalizer.detect(...)`\n",
    "- Tries to **automatically guess the text encoding**.\n",
    "- It returns a dictionary with:\n",
    "  - `'encoding'`: the guessed encoding (e.g., `'utf-8'`)\n",
    "  - `'language'`: the detected language (e.g., `'English'`)\n",
    "  - `'confidence'`: how sure the algorithm is (value between 0 and 1)\n",
    "\n",
    "---\n",
    "\n",
    "### ✅ Your Output:\n",
    "\n",
    "```python\n",
    "{'encoding': 'utf-8', 'language': 'English', 'confidence': 1.0}\n",
    "```\n",
    "\n",
    "This means:\n",
    "\n",
    "- The file is **readable as plain text**.\n",
    "- The encoding is **Windows-1252**, which is not the default for Python.\n",
    "- The language is most likely **English**.\n",
    "- The **confidence score** is `1.0`, which means the detection is **100% reliable**.\n",
    "\n",
    "Now you can safely read the file using:\n",
    "\n",
    "```python\n",
    "df = pd.read_csv(\"your_file.csv\", encoding=\"Windows-1252\")\n",
    "```\n"
   ]
  },
  {
   "cell_type": "code",
   "execution_count": 167,
   "id": "0bc5833c-0fb1-4402-9474-d79dc22e77d7",
   "metadata": {},
   "outputs": [
    {
     "name": "stderr",
     "output_type": "stream",
     "text": [
      "C:\\Users\\Sefer Adiyaman\\AppData\\Local\\Temp\\ipykernel_20864\\1141492884.py:2: DtypeWarning: Columns (13,14,15) have mixed types. Specify dtype option on import or set low_memory=False.\n",
      "  kickstarter_2016 = pd.read_csv(\"data_cleaning_kaggle/data/ks-projects-201612.csv\", encoding='Windows-1252')\n"
     ]
    },
    {
     "data": {
      "text/html": [
       "<div>\n",
       "<style scoped>\n",
       "    .dataframe tbody tr th:only-of-type {\n",
       "        vertical-align: middle;\n",
       "    }\n",
       "\n",
       "    .dataframe tbody tr th {\n",
       "        vertical-align: top;\n",
       "    }\n",
       "\n",
       "    .dataframe thead th {\n",
       "        text-align: right;\n",
       "    }\n",
       "</style>\n",
       "<table border=\"1\" class=\"dataframe\">\n",
       "  <thead>\n",
       "    <tr style=\"text-align: right;\">\n",
       "      <th></th>\n",
       "      <th>ID</th>\n",
       "      <th>name</th>\n",
       "      <th>category</th>\n",
       "      <th>main_category</th>\n",
       "      <th>currency</th>\n",
       "      <th>deadline</th>\n",
       "      <th>goal</th>\n",
       "      <th>launched</th>\n",
       "      <th>pledged</th>\n",
       "      <th>state</th>\n",
       "      <th>backers</th>\n",
       "      <th>country</th>\n",
       "      <th>usd pledged</th>\n",
       "      <th>Unnamed: 13</th>\n",
       "      <th>Unnamed: 14</th>\n",
       "      <th>Unnamed: 15</th>\n",
       "      <th>Unnamed: 16</th>\n",
       "    </tr>\n",
       "  </thead>\n",
       "  <tbody>\n",
       "    <tr>\n",
       "      <th>0</th>\n",
       "      <td>1000002330</td>\n",
       "      <td>The Songs of Adelaide &amp; Abullah</td>\n",
       "      <td>Poetry</td>\n",
       "      <td>Publishing</td>\n",
       "      <td>GBP</td>\n",
       "      <td>2015-10-09 11:36:00</td>\n",
       "      <td>1000</td>\n",
       "      <td>2015-08-11 12:12:28</td>\n",
       "      <td>0</td>\n",
       "      <td>failed</td>\n",
       "      <td>0</td>\n",
       "      <td>GB</td>\n",
       "      <td>0</td>\n",
       "      <td>NaN</td>\n",
       "      <td>NaN</td>\n",
       "      <td>NaN</td>\n",
       "      <td>NaN</td>\n",
       "    </tr>\n",
       "    <tr>\n",
       "      <th>1</th>\n",
       "      <td>1000004038</td>\n",
       "      <td>Where is Hank?</td>\n",
       "      <td>Narrative Film</td>\n",
       "      <td>Film &amp; Video</td>\n",
       "      <td>USD</td>\n",
       "      <td>2013-02-26 00:20:50</td>\n",
       "      <td>45000</td>\n",
       "      <td>2013-01-12 00:20:50</td>\n",
       "      <td>220</td>\n",
       "      <td>failed</td>\n",
       "      <td>3</td>\n",
       "      <td>US</td>\n",
       "      <td>220</td>\n",
       "      <td>NaN</td>\n",
       "      <td>NaN</td>\n",
       "      <td>NaN</td>\n",
       "      <td>NaN</td>\n",
       "    </tr>\n",
       "    <tr>\n",
       "      <th>2</th>\n",
       "      <td>1000007540</td>\n",
       "      <td>ToshiCapital Rekordz Needs Help to Complete Album</td>\n",
       "      <td>Music</td>\n",
       "      <td>Music</td>\n",
       "      <td>USD</td>\n",
       "      <td>2012-04-16 04:24:11</td>\n",
       "      <td>5000</td>\n",
       "      <td>2012-03-17 03:24:11</td>\n",
       "      <td>1</td>\n",
       "      <td>failed</td>\n",
       "      <td>1</td>\n",
       "      <td>US</td>\n",
       "      <td>1</td>\n",
       "      <td>NaN</td>\n",
       "      <td>NaN</td>\n",
       "      <td>NaN</td>\n",
       "      <td>NaN</td>\n",
       "    </tr>\n",
       "    <tr>\n",
       "      <th>3</th>\n",
       "      <td>1000011046</td>\n",
       "      <td>Community Film Project: The Art of Neighborhoo...</td>\n",
       "      <td>Film &amp; Video</td>\n",
       "      <td>Film &amp; Video</td>\n",
       "      <td>USD</td>\n",
       "      <td>2015-08-29 01:00:00</td>\n",
       "      <td>19500</td>\n",
       "      <td>2015-07-04 08:35:03</td>\n",
       "      <td>1283</td>\n",
       "      <td>canceled</td>\n",
       "      <td>14</td>\n",
       "      <td>US</td>\n",
       "      <td>1283</td>\n",
       "      <td>NaN</td>\n",
       "      <td>NaN</td>\n",
       "      <td>NaN</td>\n",
       "      <td>NaN</td>\n",
       "    </tr>\n",
       "    <tr>\n",
       "      <th>4</th>\n",
       "      <td>1000014025</td>\n",
       "      <td>Monarch Espresso Bar</td>\n",
       "      <td>Restaurants</td>\n",
       "      <td>Food</td>\n",
       "      <td>USD</td>\n",
       "      <td>2016-04-01 13:38:27</td>\n",
       "      <td>50000</td>\n",
       "      <td>2016-02-26 13:38:27</td>\n",
       "      <td>52375</td>\n",
       "      <td>successful</td>\n",
       "      <td>224</td>\n",
       "      <td>US</td>\n",
       "      <td>52375</td>\n",
       "      <td>NaN</td>\n",
       "      <td>NaN</td>\n",
       "      <td>NaN</td>\n",
       "      <td>NaN</td>\n",
       "    </tr>\n",
       "  </tbody>\n",
       "</table>\n",
       "</div>"
      ],
      "text/plain": [
       "          ID                                               name   \\\n",
       "0  1000002330                    The Songs of Adelaide & Abullah   \n",
       "1  1000004038                                     Where is Hank?   \n",
       "2  1000007540  ToshiCapital Rekordz Needs Help to Complete Album   \n",
       "3  1000011046  Community Film Project: The Art of Neighborhoo...   \n",
       "4  1000014025                               Monarch Espresso Bar   \n",
       "\n",
       "        category  main_category  currency             deadline   goal   \\\n",
       "0          Poetry     Publishing       GBP  2015-10-09 11:36:00   1000   \n",
       "1  Narrative Film   Film & Video       USD  2013-02-26 00:20:50  45000   \n",
       "2           Music          Music       USD  2012-04-16 04:24:11   5000   \n",
       "3    Film & Video   Film & Video       USD  2015-08-29 01:00:00  19500   \n",
       "4     Restaurants           Food       USD  2016-04-01 13:38:27  50000   \n",
       "\n",
       "             launched  pledged       state  backers  country  usd pledged   \\\n",
       "0  2015-08-11 12:12:28        0      failed        0       GB            0   \n",
       "1  2013-01-12 00:20:50      220      failed        3       US          220   \n",
       "2  2012-03-17 03:24:11        1      failed        1       US            1   \n",
       "3  2015-07-04 08:35:03     1283    canceled       14       US         1283   \n",
       "4  2016-02-26 13:38:27    52375  successful      224       US        52375   \n",
       "\n",
       "  Unnamed: 13 Unnamed: 14 Unnamed: 15  Unnamed: 16  \n",
       "0         NaN         NaN         NaN          NaN  \n",
       "1         NaN         NaN         NaN          NaN  \n",
       "2         NaN         NaN         NaN          NaN  \n",
       "3         NaN         NaN         NaN          NaN  \n",
       "4         NaN         NaN         NaN          NaN  "
      ]
     },
     "execution_count": 167,
     "metadata": {},
     "output_type": "execute_result"
    }
   ],
   "source": [
    "# read in the file with the encoding detected by charset_normalizer\n",
    "kickstarter_2016 = pd.read_csv(\"data_cleaning_kaggle/data/ks-projects-201612.csv\", encoding='Windows-1252')\n",
    "\n",
    "# look at the first few lines\n",
    "kickstarter_2016.head()"
   ]
  },
  {
   "cell_type": "markdown",
   "id": "24675c9c-d97f-45ad-be97-87bf54c3ec53",
   "metadata": {},
   "source": [
    "## Step 6: What if the encoding `charset_normalizer` guesses isn't right?\n",
    "\n",
    "Since `charset_normalizer` is basically just a fancy guesser, sometimes it will guess the **wrong encoding**.\n",
    "\n",
    "🛠️ One thing you can try:\n",
    "- Try reading **more** or **less** of the file (change `read(10000)` to a bigger or smaller number).\n",
    "- See if you get a **different result**.\n",
    "- Then test that encoding instead.\n",
    "\n",
    "It's not perfect — but it helps improve the chance of getting the correct encoding before opening the file.\n"
   ]
  },
  {
   "cell_type": "markdown",
   "id": "b8d1f43f-84d0-49d0-ad88-fbd6c0e51335",
   "metadata": {},
   "source": [
    "## Step 7: Saving Your Files with UTF-8 Encoding\n",
    "\n",
    "Once you've gone through all the trouble of getting your file into UTF-8, you'll probably want to **keep it that way**.\n",
    "\n",
    "The easiest way to do that:  \n",
    "Save your files using **UTF-8 encoding**.\n",
    "\n",
    "Good news:\n",
    "- **Python uses UTF-8 by default**, so when you save a file (e.g., using `open(..., 'w')`), it will automatically be saved in UTF-8 unless you specify otherwise.\n",
    "\n",
    "This helps make sure that your files stay readable across different systems and tools.\n"
   ]
  },
  {
   "cell_type": "code",
   "execution_count": null,
   "id": "23b8a22e-0e8d-45c6-84e0-acc47737ce80",
   "metadata": {},
   "outputs": [],
   "source": [
    "# save our file (will be saved as UTF-8 by default!)\n",
    "kickstarter_2016.to_csv(\"data_cleaning_kaggle/output/ks-projects-201612-utf8.csv\")"
   ]
  },
  {
   "cell_type": "markdown",
   "id": "4955ee00-86d6-480a-9eaf-db663d771361",
   "metadata": {},
   "source": [
    "## 5️⃣ Module: Cleaning Inconsistent Text Entries\n",
    "\n",
    "In this module, I’m learning how to **detect and clean inconsistent text data**, especially for categorical columns like `\"Country\"`.\n",
    "\n",
    "### 📌 Learning goals:\n",
    "\n",
    "- Identify inconsistent entries (e.g. `\"USA\"`, `\"USofA\"`, `\"usa\"` etc.)\n",
    "- Apply **string normalization**:\n",
    "  - Convert to lowercase using `.str.lower()`\n",
    "  - Remove leading/trailing spaces using `.str.strip()`\n",
    "- Detect similar values using **fuzzy matching** (`fuzzywuzzy`)\n",
    "- Standardize values by:\n",
    "  - Automatically finding close matches\n",
    "  - Replacing them with a consistent format\n",
    "---\n",
    "In the follow-up exercise, I apply these skills to the [Pakistani Intellectual Capital Data](https://www.kaggle.com/datasets/henryjavier/pakistan-intellectual-capitalcsv)."
   ]
  },
  {
   "cell_type": "code",
   "execution_count": null,
   "id": "3ae64ee8-a41a-4948-9804-bd6100f8f3b5",
   "metadata": {},
   "outputs": [],
   "source": [
    "# Install necessary libraries (only run if not already installed)\n",
    "!pip install fuzzywuzzy\n",
    "!pip install python-Levenshtein\n",
    "!pip install charset-normalizer\n",
    "\n",
    "# Import standard libraries\n",
    "import pandas as pd\n",
    "import numpy as np\n",
    "\n",
    "# Import helpful text processing tools\n",
    "import fuzzywuzzy\n",
    "from fuzzywuzzy import process\n",
    "import charset_normalizer\n",
    "\n",
    "# Read the dataset\n",
    "professors = pd.read_csv(\"data_cleaning_kaggle/data/pakistan_intellectual_capital.csv\")\n",
    "\n",
    "# Set random seed for reproducibility\n",
    "np.random.seed(0)\n"
   ]
  },
  {
   "cell_type": "markdown",
   "id": "1661b05c-067f-454c-8f08-c52c9f69f02d",
   "metadata": {},
   "source": [
    "### Step 1: Preliminary Text Pre-processing\n",
    "\n",
    "We start by previewing the first few rows of the dataset to get a sense of its structure and contents."
   ]
  },
  {
   "cell_type": "code",
   "execution_count": 96,
   "id": "86adbdec-4ed3-43b4-a9d7-869131908488",
   "metadata": {},
   "outputs": [
    {
     "data": {
      "text/html": [
       "<div>\n",
       "<style scoped>\n",
       "    .dataframe tbody tr th:only-of-type {\n",
       "        vertical-align: middle;\n",
       "    }\n",
       "\n",
       "    .dataframe tbody tr th {\n",
       "        vertical-align: top;\n",
       "    }\n",
       "\n",
       "    .dataframe thead th {\n",
       "        text-align: right;\n",
       "    }\n",
       "</style>\n",
       "<table border=\"1\" class=\"dataframe\">\n",
       "  <thead>\n",
       "    <tr style=\"text-align: right;\">\n",
       "      <th></th>\n",
       "      <th>Unnamed: 0</th>\n",
       "      <th>S#</th>\n",
       "      <th>Teacher Name</th>\n",
       "      <th>University Currently Teaching</th>\n",
       "      <th>Department</th>\n",
       "      <th>Province University Located</th>\n",
       "      <th>Designation</th>\n",
       "      <th>Terminal Degree</th>\n",
       "      <th>Graduated from</th>\n",
       "      <th>Country</th>\n",
       "      <th>Year</th>\n",
       "      <th>Area of Specialization/Research Interests</th>\n",
       "      <th>Other Information</th>\n",
       "    </tr>\n",
       "  </thead>\n",
       "  <tbody>\n",
       "    <tr>\n",
       "      <th>0</th>\n",
       "      <td>2</td>\n",
       "      <td>3</td>\n",
       "      <td>Dr. Abdul Basit</td>\n",
       "      <td>University of Balochistan</td>\n",
       "      <td>Computer Science &amp; IT</td>\n",
       "      <td>Balochistan</td>\n",
       "      <td>Assistant Professor</td>\n",
       "      <td>PhD</td>\n",
       "      <td>Asian Institute of Technology</td>\n",
       "      <td>Thailand</td>\n",
       "      <td>NaN</td>\n",
       "      <td>Software Engineering &amp; DBMS</td>\n",
       "      <td>NaN</td>\n",
       "    </tr>\n",
       "    <tr>\n",
       "      <th>1</th>\n",
       "      <td>4</td>\n",
       "      <td>5</td>\n",
       "      <td>Dr. Waheed Noor</td>\n",
       "      <td>University of Balochistan</td>\n",
       "      <td>Computer Science &amp; IT</td>\n",
       "      <td>Balochistan</td>\n",
       "      <td>Assistant Professor</td>\n",
       "      <td>PhD</td>\n",
       "      <td>Asian Institute of Technology</td>\n",
       "      <td>Thailand</td>\n",
       "      <td>NaN</td>\n",
       "      <td>DBMS</td>\n",
       "      <td>NaN</td>\n",
       "    </tr>\n",
       "    <tr>\n",
       "      <th>2</th>\n",
       "      <td>5</td>\n",
       "      <td>6</td>\n",
       "      <td>Dr. Junaid Baber</td>\n",
       "      <td>University of Balochistan</td>\n",
       "      <td>Computer Science &amp; IT</td>\n",
       "      <td>Balochistan</td>\n",
       "      <td>Assistant Professor</td>\n",
       "      <td>PhD</td>\n",
       "      <td>Asian Institute of Technology</td>\n",
       "      <td>Thailand</td>\n",
       "      <td>NaN</td>\n",
       "      <td>Information processing, Multimedia mining</td>\n",
       "      <td>NaN</td>\n",
       "    </tr>\n",
       "    <tr>\n",
       "      <th>3</th>\n",
       "      <td>6</td>\n",
       "      <td>7</td>\n",
       "      <td>Dr. Maheen Bakhtyar</td>\n",
       "      <td>University of Balochistan</td>\n",
       "      <td>Computer Science &amp; IT</td>\n",
       "      <td>Balochistan</td>\n",
       "      <td>Assistant Professor</td>\n",
       "      <td>PhD</td>\n",
       "      <td>Asian Institute of Technology</td>\n",
       "      <td>Thailand</td>\n",
       "      <td>NaN</td>\n",
       "      <td>NLP, Information Retrieval, Question Answering...</td>\n",
       "      <td>NaN</td>\n",
       "    </tr>\n",
       "    <tr>\n",
       "      <th>4</th>\n",
       "      <td>24</td>\n",
       "      <td>25</td>\n",
       "      <td>Samina Azim</td>\n",
       "      <td>Sardar Bahadur Khan Women's University</td>\n",
       "      <td>Computer Science</td>\n",
       "      <td>Balochistan</td>\n",
       "      <td>Lecturer</td>\n",
       "      <td>BS</td>\n",
       "      <td>Balochistan University of Information Technolo...</td>\n",
       "      <td>Pakistan</td>\n",
       "      <td>2005.0</td>\n",
       "      <td>VLSI Electronics DLD Database</td>\n",
       "      <td>NaN</td>\n",
       "    </tr>\n",
       "  </tbody>\n",
       "</table>\n",
       "</div>"
      ],
      "text/plain": [
       "   Unnamed: 0  S#         Teacher Name  \\\n",
       "0           2   3      Dr. Abdul Basit   \n",
       "1           4   5      Dr. Waheed Noor   \n",
       "2           5   6     Dr. Junaid Baber   \n",
       "3           6   7  Dr. Maheen Bakhtyar   \n",
       "4          24  25          Samina Azim   \n",
       "\n",
       "            University Currently Teaching             Department  \\\n",
       "0               University of Balochistan  Computer Science & IT   \n",
       "1               University of Balochistan  Computer Science & IT   \n",
       "2               University of Balochistan  Computer Science & IT   \n",
       "3               University of Balochistan  Computer Science & IT   \n",
       "4  Sardar Bahadur Khan Women's University       Computer Science   \n",
       "\n",
       "  Province University Located          Designation Terminal Degree  \\\n",
       "0                 Balochistan  Assistant Professor             PhD   \n",
       "1                 Balochistan  Assistant Professor             PhD   \n",
       "2                 Balochistan  Assistant Professor             PhD   \n",
       "3                 Balochistan  Assistant Professor             PhD   \n",
       "4                 Balochistan             Lecturer              BS   \n",
       "\n",
       "                                      Graduated from   Country    Year  \\\n",
       "0                      Asian Institute of Technology  Thailand     NaN   \n",
       "1                      Asian Institute of Technology  Thailand     NaN   \n",
       "2                      Asian Institute of Technology  Thailand     NaN   \n",
       "3                      Asian Institute of Technology  Thailand     NaN   \n",
       "4  Balochistan University of Information Technolo...  Pakistan  2005.0   \n",
       "\n",
       "           Area of Specialization/Research Interests Other Information  \n",
       "0                        Software Engineering & DBMS               NaN  \n",
       "1                                               DBMS               NaN  \n",
       "2          Information processing, Multimedia mining               NaN  \n",
       "3  NLP, Information Retrieval, Question Answering...               NaN  \n",
       "4                      VLSI Electronics DLD Database               NaN  "
      ]
     },
     "execution_count": 96,
     "metadata": {},
     "output_type": "execute_result"
    }
   ],
   "source": [
    "professors.head()"
   ]
  },
  {
   "cell_type": "markdown",
   "id": "065dbe17-66ea-49f6-9b74-66f453bf4f93",
   "metadata": {},
   "source": [
    "## Step 2: Check for Inconsistent Country Entries\n",
    "\n",
    "We want to clean up the `\"Country\"` column to ensure all entries are consistent. Instead of checking each row manually (which would take a lot of time and effort), we use the `.unique()` method to list **all unique values**. Then we sort them alphabetically so it’s easier to visually spot inconsistencies."
   ]
  },
  {
   "cell_type": "code",
   "execution_count": 100,
   "id": "bbfd4934-510e-484d-bb34-00bae798ff60",
   "metadata": {},
   "outputs": [
    {
     "data": {
      "text/plain": [
       "array([' Germany', ' New Zealand', ' Sweden', ' USA', 'Australia',\n",
       "       'Austria', 'Canada', 'China', 'Finland', 'France', 'Greece',\n",
       "       'HongKong', 'Ireland', 'Italy', 'Japan', 'Macau', 'Malaysia',\n",
       "       'Mauritius', 'Netherland', 'New Zealand', 'Norway', 'Pakistan',\n",
       "       'Portugal', 'Russian Federation', 'Saudi Arabia', 'Scotland',\n",
       "       'Singapore', 'South Korea', 'SouthKorea', 'Spain', 'Sweden',\n",
       "       'Thailand', 'Turkey', 'UK', 'USA', 'USofA', 'Urbana', 'germany'],\n",
       "      dtype=object)"
      ]
     },
     "execution_count": 100,
     "metadata": {},
     "output_type": "execute_result"
    }
   ],
   "source": [
    "# This avoids checking each row individually\n",
    "\n",
    "# Extract all unique country names from the 'Country' column\n",
    "countries = professors['Country'].unique()\n",
    "\n",
    "# Sort them alphabetically for easier comparison\n",
    "countries.sort()\n",
    "\n",
    "# Show the sorted list to spot inconsistencies\n",
    "countries\n"
   ]
  },
  {
   "cell_type": "markdown",
   "id": "d2c5ed3e-3e62-49cc-a67d-7b1bffc9fe12",
   "metadata": {},
   "source": [
    "## Step 3 – Normalize Text Format in the 'Country' Column\n",
    "Now that we’ve inspected the raw country values, we notice several inconsistencies:\n",
    "\n",
    "- Different capitalizations: 'Germany' vs 'germany'\n",
    "\n",
    "- Leading spaces: ' Germany'\n",
    "\n",
    "- Duplicates caused by both: 'New Zealand' vs ' New Zealand'\n",
    "\n",
    "- Unexpected merging: 'South Korea' vs 'SouthKorea'\n",
    "\n",
    "To fix the majority of these issues, we’ll do the following:\n",
    "\n",
    "- Convert all entries to lowercase\n",
    "\n",
    "- Strip leading and trailing whitespace\n",
    "\n",
    "🔍 This simple cleanup typically resolves 80% of text-based entry issues in real datasets."
   ]
  },
  {
   "cell_type": "code",
   "execution_count": 101,
   "id": "5c8eddcf-83eb-496d-9750-4165022f47ce",
   "metadata": {},
   "outputs": [],
   "source": [
    "# Convert all entries in 'Country' to lowercase for consistency\n",
    "professors['Country'] = professors['Country'].str.lower()\n",
    "\n",
    "# Remove leading/trailing whitespace that could cause duplicates\n",
    "professors['Country'] = professors['Country'].str.strip()\n"
   ]
  },
  {
   "cell_type": "markdown",
   "id": "bf2b052c-44f6-4658-bfff-32342089b6c3",
   "metadata": {},
   "source": [
    "## Step 4: Check cleaned unique values again\n",
    "Now that we've removed inconsistencies caused by capitalization and trailing/leading whitespaces, we can recheck the list of unique values. This gives us a much cleaner dataset and makes further correction easier.\n",
    "\n",
    "We’re especially looking for issues like:\n",
    "\n",
    "- Misspelled countries (southkorea vs south korea)\n",
    "\n",
    "- Duplicate entries that are visually similar but slightly off\n",
    "\n",
    "- Unusual values that might not even be country names (e.g., urbana, usofa)"
   ]
  },
  {
   "cell_type": "code",
   "execution_count": 104,
   "id": "2d0aae65-5360-4166-8b68-4615a8f078d3",
   "metadata": {},
   "outputs": [
    {
     "data": {
      "text/plain": [
       "array(['australia', 'austria', 'canada', 'china', 'finland', 'france',\n",
       "       'germany', 'greece', 'hongkong', 'ireland', 'italy', 'japan',\n",
       "       'macau', 'malaysia', 'mauritius', 'netherland', 'new zealand',\n",
       "       'norway', 'pakistan', 'portugal', 'russian federation',\n",
       "       'saudi arabia', 'scotland', 'singapore', 'south korea',\n",
       "       'southkorea', 'spain', 'sweden', 'thailand', 'turkey', 'uk',\n",
       "       'urbana', 'usa', 'usofa'], dtype=object)"
      ]
     },
     "execution_count": 104,
     "metadata": {},
     "output_type": "execute_result"
    }
   ],
   "source": [
    "# Get all the unique values again after cleaning\n",
    "countries = professors['Country'].unique()\n",
    "\n",
    "# Sort them alphabetically and take a closer look\n",
    "countries.sort()\n",
    "countries\n"
   ]
  },
  {
   "cell_type": "markdown",
   "id": "109836eb-b043-4a9f-bf7b-0d745f6828db",
   "metadata": {},
   "source": [
    "## Step 5: Identify similar entries using fuzzy matching\n",
    "Even after basic cleaning, there are still inconsistencies in the Country column.\n",
    "For example:\n",
    "\n",
    "- southkorea and south korea should be the same.\n",
    "\n",
    "- usofa and usa may refer to the same country.\n",
    "\n",
    "- Minor typos or formatting inconsistencies may still remain.\n",
    "\n",
    "To handle such cases, we use fuzzy matching with the fuzzywuzzy package.\n",
    "\n",
    "🔍 Fuzzy matching:\n",
    "Fuzzy matching is a technique that finds text strings that are approximately equal. It measures how similar two strings are by comparing their character sequences (e.g., \"apple\" vs. \"snapple\" or \"in\" vs. \"on\").\n",
    "\n",
    "Key idea: The closer the similarity score (ratio) is to 100, the more alike the two strings are.\n",
    "\n",
    "🔎 Goal in this step:\n",
    "Find all entries that are similar to \"south korea\" using fuzzy matching and inspect them.\n",
    "We'll use token_sort_ratio to compare and get the top 10 closest matches.\n",
    "\n",
    "This helps us:\n",
    "\n",
    "- Spot typos and inconsistent spacing\n",
    "\n",
    "- Find alternate forms of the same value\n",
    "\n",
    "- Decide which ones to standardize automatically\n",
    "\n",
    "🔧 Strategy:\n",
    "\n",
    "- Extract top 10 most similar entries using fuzzywuzzy.process.extract().\n",
    "\n",
    "- Review the matches and decide on a cutoff score (e.g., 47).\n",
    "\n",
    "- Replace all matches above that cutoff with the correct form \"south korea\"."
   ]
  },
  {
   "cell_type": "code",
   "execution_count": 105,
   "id": "2b6c7d69-d837-4f67-956e-a8e1d88f23ce",
   "metadata": {},
   "outputs": [
    {
     "data": {
      "text/plain": [
       "[('south korea', 100),\n",
       " ('southkorea', 48),\n",
       " ('saudi arabia', 43),\n",
       " ('norway', 35),\n",
       " ('austria', 33),\n",
       " ('ireland', 33),\n",
       " ('pakistan', 32),\n",
       " ('portugal', 32),\n",
       " ('scotland', 32),\n",
       " ('australia', 30)]"
      ]
     },
     "execution_count": 105,
     "metadata": {},
     "output_type": "execute_result"
    }
   ],
   "source": [
    "# get the top 10 closest matches to \"south korea\"\n",
    "matches = fuzzywuzzy.process.extract(\"south korea\", countries, limit=10, scorer=fuzzywuzzy.fuzz.token_sort_ratio)\n",
    "\n",
    "# take a look at them\n",
    "matches"
   ]
  },
  {
   "cell_type": "markdown",
   "id": "95a8630d-ff87-4e6b-a866-2dc8402151be",
   "metadata": {},
   "source": [
    "## Step 6: Define a reusable fuzzy-matching function\n",
    "To fix inconsistent entries programmatically, we define a general-purpose function that searches for approximate string matches and replaces them with a target value if their similarity score is above a given threshold.\n",
    "\n",
    "This helps us avoid repetitive code and ensures consistency across similar data cleaning tasks.\n",
    "\n",
    "***What does the function do?***\n",
    "- Takes a DataFrame, column name, reference string (e.g. \"south korea\"), and a minimum similarity ratio.\n",
    "\n",
    "- Extracts the top 10 most similar strings using fuzzywuzzy\n",
    "  \n",
    "- Filters those strings by ratio (e.g. > 47)\n",
    "\n",
    "- Replaces all those matches in the dataset with the reference string"
   ]
  },
  {
   "cell_type": "code",
   "execution_count": 106,
   "id": "aa80d75b-0b6b-47cf-ba77-e083156cc4da",
   "metadata": {},
   "outputs": [],
   "source": [
    "# -----------------------------------------------\n",
    "# Define a reusable function to fix inconsistent \n",
    "# text entries using fuzzy string matching\n",
    "# -----------------------------------------------\n",
    "def replace_matches_in_column(df, column, string_to_match, min_ratio=47):\n",
    "    \"\"\"\n",
    "    Parameters:\n",
    "    df (DataFrame): the DataFrame to process\n",
    "    column (str): the column name to clean\n",
    "    string_to_match (str): the target string that other values should match\n",
    "    min_ratio (int): the minimum similarity ratio (0–100) for replacements\n",
    "\n",
    "    This function finds all strings in the given column that are \n",
    "    similar to the target string and replaces them with it.\n",
    "    \"\"\"\n",
    "\n",
    "    # ① Get all unique values from the column to compare against\n",
    "    strings = df[column].unique()\n",
    "\n",
    "    # ② Use fuzzywuzzy to extract the 10 most similar values to our target string\n",
    "    #    - 'process.extract' returns tuples like: (string, similarity_score)\n",
    "    matches = fuzzywuzzy.process.extract(\n",
    "        string_to_match,\n",
    "        strings,\n",
    "        limit=10,\n",
    "        scorer=fuzzywuzzy.fuzz.token_sort_ratio  # Sort-insensitive comparison\n",
    "    )\n",
    "\n",
    "    # ③ Filter only those matches with similarity >= min_ratio\n",
    "    #    - matches[0] is the string, matches[1] is the similarity score\n",
    "    close_matches = [match[0] for match in matches if match[1] >= min_ratio]\n",
    "\n",
    "    # ④ Create a Boolean mask: True where the column value is in our close_matches\n",
    "    rows_with_matches = df[column].isin(close_matches)\n",
    "\n",
    "    # ⑤ Replace those rows in the column with the exact target string\n",
    "    df.loc[rows_with_matches, column] = string_to_match\n",
    "\n",
    "    # ⑥ Print confirmation for feedback\n",
    "    print(\"✅ All done! The following values were replaced:\", close_matches)\n"
   ]
  },
  {
   "cell_type": "markdown",
   "id": "655225d6-c347-42a6-a3c0-58107ee28a6b",
   "metadata": {},
   "source": [
    "# Syntax Tips for Fuzzy Matching and Replacement\n",
    "\n",
    "---\n",
    "\n",
    "***1. `df[column].unique()`***\n",
    "Returns all **unique values** from the specified column.  \n",
    "Useful to detect:\n",
    "- Typos\n",
    "- Inconsistent entries\n",
    "- Duplicates\n",
    "\n",
    "---\n",
    "\n",
    "***2. `fuzzywuzzy.process.extract(...)`***\n",
    "Compares a **target string** to a list of strings and returns the **top N closest matches**, each with a similarity score (0–100).\n",
    "\n",
    "- Example:  \n",
    "  `process.extract(\"south korea\", countries, limit=10)`  \n",
    "  → returns pairs like `(\"southkorea\", 48)`\n",
    "\n",
    "---\n",
    "\n",
    "***3. `[match[0] for match in matches if match[1] >= min_ratio]`***\n",
    "\n",
    "This is a **list comprehension** — a short and clean way to create a filtered list.  \n",
    "It replaces a full for-loop and does the following:\n",
    "\n",
    "***What is `matches`?***\n",
    "- A list of tuples: each tuple has\n",
    "  - `match[0]`: the actual string (e.g. `'southkorea'`)\n",
    "  - `match[1]`: the similarity score (e.g. `48`)\n",
    "\n",
    "***What does the code do?***\n",
    "- Goes through each match\n",
    "- Keeps only the ones with score `≥ min_ratio`\n",
    "- Picks the string part `match[0]` for the new list\n",
    "\n",
    "**Result:**  \n",
    "You get a list of country names that are **similar enough** to the target string – these will be updated in the next step.\n",
    "\n",
    "---\n",
    "\n",
    "***4. `df[column]`***\n",
    "Selects a specific column from the DataFrame (e.g., `df['Country']`).\n",
    "\n",
    "---\n",
    "\n",
    "***5. `.isin(close_matches)`***\n",
    "Checks each value in the column:\n",
    "\n",
    "- If it's in the `close_matches` list → returns `True`\n",
    "- If not → returns `False`\n",
    "\n",
    "This creates a **Boolean mask** – a list of `True/False` values.\n",
    "\n",
    "---\n",
    "\n",
    "***6. `df.loc[rows_with_matches, column] = string_to_match`***\n",
    "\n",
    "***What it does:***\n",
    "- `df.loc[...]`: Select specific rows and columns.\n",
    "- `rows_with_matches`: Boolean mask showing which rows to change.\n",
    "- `column`: Which column to update (e.g., `'Country'`)\n",
    "- `= string_to_match`: New clean value to assign (e.g., `'south korea'`)\n",
    "\n",
    "**Effect:**  \n",
    "Only the matched inconsistent entries will be updated — all now contain the same cleaned string.\n",
    "\n",
    "---\n"
   ]
  },
  {
   "cell_type": "markdown",
   "id": "6a1cf437-f9a8-4d3e-9ece-cbae31462f60",
   "metadata": {},
   "source": [
    "## Step 7: Apply the Function to Clean the Column\n",
    "\n",
    "Now that we’ve defined our `replace_matches_in_column()` function, it’s time to **use it in practice**.\n",
    "\n",
    "We will replace any values in the `'Country'` column that are similar to `\"south korea\"` using our fuzzy matching function.\n",
    "\n",
    "This helps us catch inconsistent variations like `'southkorea'` and unify them under one standardized entry."
   ]
  },
  {
   "cell_type": "code",
   "execution_count": 108,
   "id": "ba49f79b-214b-4255-a995-feb23f7cabbe",
   "metadata": {},
   "outputs": [
    {
     "name": "stdout",
     "output_type": "stream",
     "text": [
      "✅ All done! The following values were replaced: ['south korea', 'southkorea']\n"
     ]
    }
   ],
   "source": [
    "replace_matches_in_column(df=professors, column='Country', string_to_match=\"south korea\")"
   ]
  },
  {
   "cell_type": "markdown",
   "id": "575ad8b1-3985-4d3e-aa4f-ff66069afb7b",
   "metadata": {},
   "source": [
    "## Step 8: Verify the Cleanup\n",
    "\n",
    "Let’s double-check that our fuzzy matching cleanup worked as expected.\n",
    "\n",
    "We'll look at all the unique values in the `'Country'` column again to confirm that `\"south korea\"` now appears **only once** and inconsistent versions like `'southkorea'` are gone."
   ]
  },
  {
   "cell_type": "code",
   "execution_count": 109,
   "id": "28d528b0-455b-4366-97f0-f9a39b2a796d",
   "metadata": {},
   "outputs": [
    {
     "data": {
      "text/plain": [
       "array(['australia', 'austria', 'canada', 'china', 'finland', 'france',\n",
       "       'germany', 'greece', 'hongkong', 'ireland', 'italy', 'japan',\n",
       "       'macau', 'malaysia', 'mauritius', 'netherland', 'new zealand',\n",
       "       'norway', 'pakistan', 'portugal', 'russian federation',\n",
       "       'saudi arabia', 'scotland', 'singapore', 'south korea', 'spain',\n",
       "       'sweden', 'thailand', 'turkey', 'uk', 'urbana', 'usa', 'usofa'],\n",
       "      dtype=object)"
      ]
     },
     "execution_count": 109,
     "metadata": {},
     "output_type": "execute_result"
    }
   ],
   "source": [
    "# get all the unique values in the 'Country' column\n",
    "countries = professors['Country'].unique()\n",
    "\n",
    "# sort them alphabetically and then take a closer look\n",
    "countries.sort()\n",
    "countries"
   ]
  },
  {
   "cell_type": "code",
   "execution_count": 23,
   "id": "187fb8bf-f964-41eb-9557-30f2524afecf",
   "metadata": {},
   "outputs": [
    {
     "name": "stdout",
     "output_type": "stream",
     "text": [
      "['Date', 'Time', 'Latitude', 'Longitude', 'Type', 'Depth', 'Depth Error', 'Depth Seismic Stations', 'Magnitude', 'Magnitude Type', 'Magnitude Error', 'Magnitude Seismic Stations', 'Azimuthal Gap', 'Horizontal Distance', 'Horizontal Error', 'Root Mean Square', 'ID', 'Source', 'Location Source', 'Magnitude Source', 'Status']\n"
     ]
    }
   ],
   "source": [
    "print(b_permits.columns.tolist())\n"
   ]
  },
  {
   "cell_type": "code",
   "execution_count": null,
   "id": "6ac59f97-f479-4e80-98ff-66f94b1e600f",
   "metadata": {},
   "outputs": [],
   "source": []
  }
 ],
 "metadata": {
  "kernelspec": {
   "display_name": "Python 3 (ipykernel)",
   "language": "python",
   "name": "python3"
  },
  "language_info": {
   "codemirror_mode": {
    "name": "ipython",
    "version": 3
   },
   "file_extension": ".py",
   "mimetype": "text/x-python",
   "name": "python",
   "nbconvert_exporter": "python",
   "pygments_lexer": "ipython3",
   "version": "3.13.2"
  }
 },
 "nbformat": 4,
 "nbformat_minor": 5
}
